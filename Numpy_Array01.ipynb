{
 "cells": [
  {
   "cell_type": "markdown",
   "metadata": {},
   "source": [
    "# Numpy Array"
   ]
  },
  {
   "cell_type": "markdown",
   "metadata": {},
   "source": [
    "array當中只能放單一種型態，"
   ]
  },
  {
   "cell_type": "code",
   "execution_count": 1,
   "metadata": {},
   "outputs": [],
   "source": [
    "import numpy as np"
   ]
  },
  {
   "cell_type": "markdown",
   "metadata": {},
   "source": [
    "---\n",
    "### 建立\n",
    "---"
   ]
  },
  {
   "cell_type": "code",
   "execution_count": 2,
   "metadata": {},
   "outputs": [
    {
     "data": {
      "text/plain": [
       "array([1, 2, 3, 4, 5])"
      ]
     },
     "execution_count": 2,
     "metadata": {},
     "output_type": "execute_result"
    }
   ],
   "source": [
    "np.array([1,2,3,4,5])   #直接建立"
   ]
  },
  {
   "cell_type": "code",
   "execution_count": 3,
   "metadata": {},
   "outputs": [
    {
     "data": {
      "text/plain": [
       "array([1, 2, 3, 4, 5])"
      ]
     },
     "execution_count": 3,
     "metadata": {},
     "output_type": "execute_result"
    }
   ],
   "source": [
    "list1=[1,2,3,4,5]       #由list建立\n",
    "np.array(list1)"
   ]
  },
  {
   "cell_type": "code",
   "execution_count": 4,
   "metadata": {},
   "outputs": [
    {
     "data": {
      "text/plain": [
       "array([1.1, 2. , 3.2, 4. , 5. ])"
      ]
     },
     "execution_count": 4,
     "metadata": {},
     "output_type": "execute_result"
    }
   ],
   "source": [
    "list1=[1.1,2,3.2,4,5]   #會自動轉換成float\n",
    "np.array(list1)"
   ]
  },
  {
   "cell_type": "markdown",
   "metadata": {},
   "source": [
    "可以明確指定資料型態"
   ]
  },
  {
   "cell_type": "code",
   "execution_count": 5,
   "metadata": {},
   "outputs": [
    {
     "data": {
      "text/plain": [
       "array([1., 2., 3., 4., 5.], dtype=float32)"
      ]
     },
     "execution_count": 5,
     "metadata": {},
     "output_type": "execute_result"
    }
   ],
   "source": [
    "list1=[1,2,3,4,5] \n",
    "np.array(list1, dtype='float32')\n",
    "#基本的標準型態有\n",
    "  #bool_\n",
    "  #int_、int8、int16、int32、int64\n",
    "  #float_、float16、float32、float64"
   ]
  },
  {
   "cell_type": "code",
   "execution_count": 6,
   "metadata": {},
   "outputs": [
    {
     "data": {
      "text/plain": [
       "numpy.ndarray"
      ]
     },
     "execution_count": 6,
     "metadata": {},
     "output_type": "execute_result"
    }
   ],
   "source": [
    "type(np.array(list1))  #array所建立的型態為  numpy.ndarray"
   ]
  },
  {
   "cell_type": "markdown",
   "metadata": {},
   "source": [
    "---\n",
    "### 快速創建\n",
    "---"
   ]
  },
  {
   "cell_type": "code",
   "execution_count": 7,
   "metadata": {},
   "outputs": [
    {
     "data": {
      "text/plain": [
       "array([0., 0., 0., 0., 0., 0., 0., 0., 0., 0.])"
      ]
     },
     "execution_count": 7,
     "metadata": {},
     "output_type": "execute_result"
    }
   ],
   "source": [
    "np.zeros(10)"
   ]
  },
  {
   "cell_type": "code",
   "execution_count": 8,
   "metadata": {},
   "outputs": [
    {
     "data": {
      "text/plain": [
       "array([1., 1., 1., 1., 1., 1., 1., 1., 1., 1.])"
      ]
     },
     "execution_count": 8,
     "metadata": {},
     "output_type": "execute_result"
    }
   ],
   "source": [
    "np.ones(10)"
   ]
  },
  {
   "cell_type": "code",
   "execution_count": 9,
   "metadata": {},
   "outputs": [
    {
     "data": {
      "text/plain": [
       "array([[1., 1., 1., 1.],\n",
       "       [1., 1., 1., 1.]])"
      ]
     },
     "execution_count": 9,
     "metadata": {},
     "output_type": "execute_result"
    }
   ],
   "source": [
    "np.ones((2,4))"
   ]
  },
  {
   "cell_type": "code",
   "execution_count": 10,
   "metadata": {},
   "outputs": [
    {
     "data": {
      "text/plain": [
       "array([[10, 10, 10, 10],\n",
       "       [10, 10, 10, 10]])"
      ]
     },
     "execution_count": 10,
     "metadata": {},
     "output_type": "execute_result"
    }
   ],
   "source": [
    "np.full((2,4),10)"
   ]
  },
  {
   "cell_type": "code",
   "execution_count": 11,
   "metadata": {},
   "outputs": [
    {
     "name": "stdout",
     "output_type": "stream",
     "text": [
      "[0 1 2 3 4 5 6 7 8 9]\n",
      "[0 2 4 6 8]\n"
     ]
    }
   ],
   "source": [
    "print(np.arange(0,10))\n",
    "print(np.arange(0,10,2))  #(start,end, interval)"
   ]
  },
  {
   "cell_type": "code",
   "execution_count": 12,
   "metadata": {},
   "outputs": [
    {
     "data": {
      "text/plain": [
       "array([[ 1.01582801e+094, -2.69941271e-260, -9.70701200e+303],\n",
       "       [ 1.84790850e+216,  2.60802184e-310,  0.00000000e+000]])"
      ]
     },
     "execution_count": 12,
     "metadata": {},
     "output_type": "execute_result"
    }
   ],
   "source": [
    "np.empty((2,3))   #填充無異議數值"
   ]
  },
  {
   "cell_type": "markdown",
   "metadata": {},
   "source": [
    "區間"
   ]
  },
  {
   "cell_type": "code",
   "execution_count": 13,
   "metadata": {},
   "outputs": [
    {
     "data": {
      "text/plain": [
       "array([0.  , 0.25, 0.5 , 0.75, 1.  ])"
      ]
     },
     "execution_count": 13,
     "metadata": {},
     "output_type": "execute_result"
    }
   ],
   "source": [
    "np.linspace(0,1,5)    #(start, end, divide)"
   ]
  },
  {
   "cell_type": "markdown",
   "metadata": {},
   "source": [
    "random系列"
   ]
  },
  {
   "cell_type": "code",
   "execution_count": 14,
   "metadata": {},
   "outputs": [
    {
     "data": {
      "text/plain": [
       "array([[0.87942619, 0.02963913, 0.23103751],\n",
       "       [0.1607016 , 0.5406201 , 0.18733547],\n",
       "       [0.06111391, 0.45307642, 0.80705951]])"
      ]
     },
     "execution_count": 14,
     "metadata": {},
     "output_type": "execute_result"
    }
   ],
   "source": [
    "np.random.random((3,3))   # 0~1 亂數取值"
   ]
  },
  {
   "cell_type": "code",
   "execution_count": 15,
   "metadata": {},
   "outputs": [
    {
     "data": {
      "text/plain": [
       "array([[ 0.8682696 ,  0.84605437,  0.64433221],\n",
       "       [ 1.79247223,  1.10643462,  0.66473541],\n",
       "       [ 1.15235814, -0.32997275, -0.17976258]])"
      ]
     },
     "execution_count": 15,
     "metadata": {},
     "output_type": "execute_result"
    }
   ],
   "source": [
    "np.random.normal(0,1,(3,3))   # (mean, std , dim) 亂數取值"
   ]
  },
  {
   "cell_type": "code",
   "execution_count": 16,
   "metadata": {},
   "outputs": [
    {
     "data": {
      "text/plain": [
       "array([[4, 3, 8],\n",
       "       [1, 4, 6],\n",
       "       [1, 2, 6]])"
      ]
     },
     "execution_count": 16,
     "metadata": {},
     "output_type": "execute_result"
    }
   ],
   "source": [
    "np.random.randint(0,10,(3,3))    # (start, end, dim) 亂數取值"
   ]
  },
  {
   "cell_type": "markdown",
   "metadata": {},
   "source": [
    "from系列"
   ]
  },
  {
   "cell_type": "code",
   "execution_count": 17,
   "metadata": {},
   "outputs": [],
   "source": [
    "#numpy.fromfunction"
   ]
  },
  {
   "cell_type": "code",
   "execution_count": 18,
   "metadata": {},
   "outputs": [],
   "source": [
    "#numpy.fromfile"
   ]
  },
  {
   "cell_type": "markdown",
   "metadata": {},
   "source": [
    "---\n",
    "### 基本屬性\n",
    "---\n",
    "ndarray.ndim：NumPy ndarray物件的維度<br>\n",
    "ndarry.shape：ndarry物件的每一個維度的大小(size)，回傳資料類別為Tuple<br>\n",
    "ndarry.size：ndarry物件所組成之array的總元素數量，回應之數值會等於ndarray.shape的每個元素相乘<br>\n",
    "ndarry.dtype：ndarray物件內組成元素的型態<br>\n",
    "ndarray.itemsize：陣列中每一個元素的大小(Bytes) (ex: int16=>16/8=2 Bytes)<br>\n",
    "ndarry.data：這是一個存有實際陣列元素的緩衝，通常我們不需要使用這個屬性，因為我們可以使用index存取這些元素。"
   ]
  },
  {
   "cell_type": "code",
   "execution_count": 19,
   "metadata": {},
   "outputs": [],
   "source": [
    "testArray = np.random.random((3,3))"
   ]
  },
  {
   "cell_type": "code",
   "execution_count": 20,
   "metadata": {},
   "outputs": [
    {
     "data": {
      "text/plain": [
       "array([[0.47257224, 0.58014861, 0.82737502],\n",
       "       [0.20244762, 0.91122099, 0.30045863],\n",
       "       [0.35277312, 0.23494724, 0.50719577]])"
      ]
     },
     "execution_count": 20,
     "metadata": {},
     "output_type": "execute_result"
    }
   ],
   "source": [
    "testArray"
   ]
  },
  {
   "cell_type": "code",
   "execution_count": 21,
   "metadata": {},
   "outputs": [
    {
     "name": "stdout",
     "output_type": "stream",
     "text": [
      "ndim:2\n",
      "shape:(3, 3)\n",
      "size:9\n",
      "dtype:float64\n",
      "itemsize:8\n",
      "data:<memory at 0x0000021E1D143708>\n"
     ]
    }
   ],
   "source": [
    "# ndarray.ndim\n",
    "print(\"ndim:{}\".format(testArray.ndim))\n",
    "# ndarry.shape\n",
    "print(\"shape:{}\".format(testArray.shape))\n",
    "# ndarry.size\n",
    "print(\"size:{}\".format(testArray.size))\n",
    "# ndarry.dtype\n",
    "print(\"dtype:{}\".format(testArray.dtype))\n",
    "# ndarray.itemsize\n",
    "print(\"itemsize:{}\".format(testArray.itemsize))\n",
    "# ndarry.data\n",
    "print(\"data:{}\".format(testArray.data))"
   ]
  },
  {
   "cell_type": "markdown",
   "metadata": {},
   "source": [
    "---\n",
    "### 基本操作\n",
    "---"
   ]
  },
  {
   "cell_type": "code",
   "execution_count": 22,
   "metadata": {},
   "outputs": [],
   "source": [
    "a = np.array([20,30,40,50])\n",
    "b = np.arange(4)"
   ]
  },
  {
   "cell_type": "markdown",
   "metadata": {},
   "source": [
    "### <li>加減乘除、邏輯判斷"
   ]
  },
  {
   "cell_type": "code",
   "execution_count": 23,
   "metadata": {},
   "outputs": [
    {
     "data": {
      "text/plain": [
       "(array([20, 30, 40, 50]), array([0, 1, 2, 3]), array([20, 29, 38, 47]))"
      ]
     },
     "execution_count": 23,
     "metadata": {},
     "output_type": "execute_result"
    }
   ],
   "source": [
    "a,   b,   a-b"
   ]
  },
  {
   "cell_type": "code",
   "execution_count": 24,
   "metadata": {},
   "outputs": [
    {
     "data": {
      "text/plain": [
       "(array([2., 3., 4., 5.]),\n",
       " array([0., 1., 2., 3.]),\n",
       " array([ True,  True,  True,  True]))"
      ]
     },
     "execution_count": 24,
     "metadata": {},
     "output_type": "execute_result"
    }
   ],
   "source": [
    "a/10,   b/1,  a>b "
   ]
  },
  {
   "cell_type": "code",
   "execution_count": 25,
   "metadata": {},
   "outputs": [],
   "source": [
    "a = np.array([[1,2],[2,4]])\n",
    "b = np.array([[1,1],[2,2]])"
   ]
  },
  {
   "cell_type": "code",
   "execution_count": 26,
   "metadata": {},
   "outputs": [
    {
     "name": "stdout",
     "output_type": "stream",
     "text": [
      "a+b = [[2 3]\n",
      " [4 6]] \n",
      "\n",
      "a*b = [[1 2]\n",
      " [4 8]] \n",
      "\n",
      "a@b = [[ 5  5]\n",
      " [10 10]] \n",
      "\n",
      "a.dot(b) = [[ 5  5]\n",
      " [10 10]] \n",
      "\n"
     ]
    }
   ],
   "source": [
    "print('a+b =',a+b,'\\n')       #上下相加  \n",
    "print('a*b =',a*b,'\\n')       #上下相乘  \n",
    "print('a@b =',a@b,'\\n')       #矩陣相乘\n",
    "print('a.dot(b) =',a.dot(b),'\\n')  #矩陣相乘"
   ]
  },
  {
   "cell_type": "markdown",
   "metadata": {},
   "source": [
    "### <li>陣列索引、切片"
   ]
  },
  {
   "cell_type": "code",
   "execution_count": 27,
   "metadata": {},
   "outputs": [],
   "source": [
    "a2 = np.array([[1,2,3,4],[2,4,6,8]])"
   ]
  },
  {
   "cell_type": "code",
   "execution_count": 28,
   "metadata": {},
   "outputs": [
    {
     "data": {
      "text/plain": [
       "array([1, 2, 3, 4])"
      ]
     },
     "execution_count": 28,
     "metadata": {},
     "output_type": "execute_result"
    }
   ],
   "source": [
    "a2[0]"
   ]
  },
  {
   "cell_type": "code",
   "execution_count": 29,
   "metadata": {},
   "outputs": [
    {
     "data": {
      "text/plain": [
       "3"
      ]
     },
     "execution_count": 29,
     "metadata": {},
     "output_type": "execute_result"
    }
   ],
   "source": [
    "a2[0][2]"
   ]
  },
  {
   "cell_type": "code",
   "execution_count": 30,
   "metadata": {},
   "outputs": [
    {
     "data": {
      "text/plain": [
       "3"
      ]
     },
     "execution_count": 30,
     "metadata": {},
     "output_type": "execute_result"
    }
   ],
   "source": [
    "a2[0,2]    #[][]可以,合併"
   ]
  },
  {
   "cell_type": "code",
   "execution_count": 31,
   "metadata": {},
   "outputs": [
    {
     "data": {
      "text/plain": [
       "array([[1, 2, 3, 4],\n",
       "       [2, 4, 6, 8]])"
      ]
     },
     "execution_count": 31,
     "metadata": {},
     "output_type": "execute_result"
    }
   ],
   "source": [
    "a2[0:2]"
   ]
  },
  {
   "cell_type": "code",
   "execution_count": 32,
   "metadata": {},
   "outputs": [
    {
     "data": {
      "text/plain": [
       "array([1, 2, 3, 4])"
      ]
     },
     "execution_count": 32,
     "metadata": {},
     "output_type": "execute_result"
    }
   ],
   "source": [
    "a2[0,0:4]"
   ]
  },
  {
   "cell_type": "code",
   "execution_count": 33,
   "metadata": {},
   "outputs": [
    {
     "data": {
      "text/plain": [
       "array([1, 3])"
      ]
     },
     "execution_count": 33,
     "metadata": {},
     "output_type": "execute_result"
    }
   ],
   "source": [
    "a2[0,0:4:2]"
   ]
  },
  {
   "cell_type": "code",
   "execution_count": 34,
   "metadata": {},
   "outputs": [
    {
     "data": {
      "text/plain": [
       "array([1, 2, 3, 4])"
      ]
     },
     "execution_count": 34,
     "metadata": {},
     "output_type": "execute_result"
    }
   ],
   "source": [
    "a2[0,::]   #若有沒有設定者，預設為 start=0, stop=size, step=1"
   ]
  },
  {
   "cell_type": "code",
   "execution_count": 35,
   "metadata": {},
   "outputs": [
    {
     "data": {
      "text/plain": [
       "array([4, 3, 2, 1])"
      ]
     },
     "execution_count": 35,
     "metadata": {},
     "output_type": "execute_result"
    }
   ],
   "source": [
    "a2[0,::-1]  #step=-1 可以反轉"
   ]
  },
  {
   "cell_type": "code",
   "execution_count": 36,
   "metadata": {},
   "outputs": [
    {
     "data": {
      "text/plain": [
       "array([[1, 2, 3, 4],\n",
       "       [2, 4, 6, 8]])"
      ]
     },
     "execution_count": 36,
     "metadata": {},
     "output_type": "execute_result"
    }
   ],
   "source": [
    "a2[::,::] "
   ]
  },
  {
   "cell_type": "code",
   "execution_count": 37,
   "metadata": {},
   "outputs": [
    {
     "data": {
      "text/plain": [
       "array([[ 1,  2,  3,  4],\n",
       "       [ 2,  4,  6,  8],\n",
       "       [ 3,  6,  9, 12]])"
      ]
     },
     "execution_count": 37,
     "metadata": {},
     "output_type": "execute_result"
    }
   ],
   "source": [
    "a3 = np.array([[1,2,3,4],[2,4,6,8],[3,6,9,12]])\n",
    "a3"
   ]
  },
  {
   "cell_type": "code",
   "execution_count": 38,
   "metadata": {},
   "outputs": [
    {
     "data": {
      "text/plain": [
       "array([[1, 2, 3],\n",
       "       [2, 4, 6]])"
      ]
     },
     "execution_count": 38,
     "metadata": {},
     "output_type": "execute_result"
    }
   ],
   "source": [
    "a3[:2,:3]    #[ x維 , y維 ]"
   ]
  },
  {
   "cell_type": "code",
   "execution_count": 39,
   "metadata": {},
   "outputs": [
    {
     "data": {
      "text/plain": [
       "array([[1, 3],\n",
       "       [2, 6],\n",
       "       [3, 9]])"
      ]
     },
     "execution_count": 39,
     "metadata": {},
     "output_type": "execute_result"
    }
   ],
   "source": [
    "a3[:,::2]    #[ x維 , y維 ]"
   ]
  },
  {
   "cell_type": "code",
   "execution_count": 40,
   "metadata": {},
   "outputs": [
    {
     "data": {
      "text/plain": [
       "array([[ 4,  3,  2,  1],\n",
       "       [ 8,  6,  4,  2],\n",
       "       [12,  9,  6,  3]])"
      ]
     },
     "execution_count": 40,
     "metadata": {},
     "output_type": "execute_result"
    }
   ],
   "source": [
    "a3[:,::-1]"
   ]
  },
  {
   "cell_type": "code",
   "execution_count": 41,
   "metadata": {},
   "outputs": [
    {
     "data": {
      "text/plain": [
       "(array([2, 4, 6]), array([2, 4, 6, 8]))"
      ]
     },
     "execution_count": 41,
     "metadata": {},
     "output_type": "execute_result"
    }
   ],
   "source": [
    "a3[:,1],    a3[1,:]"
   ]
  },
  {
   "cell_type": "markdown",
   "metadata": {},
   "source": [
    "### <li>子陣列之結果為view，需要用copy才能成為獨立副本"
   ]
  },
  {
   "cell_type": "code",
   "execution_count": 42,
   "metadata": {},
   "outputs": [
    {
     "data": {
      "text/plain": [
       "array([[ 1,  2,  3,  4],\n",
       "       [ 2,  4,  6,  8],\n",
       "       [ 3,  6,  9, 12]])"
      ]
     },
     "execution_count": 42,
     "metadata": {},
     "output_type": "execute_result"
    }
   ],
   "source": [
    "b3 = a3.copy()\n",
    "b3"
   ]
  },
  {
   "cell_type": "code",
   "execution_count": 43,
   "metadata": {},
   "outputs": [
    {
     "data": {
      "text/plain": [
       "array([[1, 2, 3, 4],\n",
       "       [2, 4, 6, 8]])"
      ]
     },
     "execution_count": 43,
     "metadata": {},
     "output_type": "execute_result"
    }
   ],
   "source": [
    "b2 = b3[:2,]\n",
    "b2"
   ]
  },
  {
   "cell_type": "code",
   "execution_count": 44,
   "metadata": {},
   "outputs": [
    {
     "data": {
      "text/plain": [
       "array([[2, 4, 6, 8],\n",
       "       [2, 4, 6, 8]])"
      ]
     },
     "execution_count": 44,
     "metadata": {},
     "output_type": "execute_result"
    }
   ],
   "source": [
    "b2[0] = b2[0]*2\n",
    "b2"
   ]
  },
  {
   "cell_type": "code",
   "execution_count": 45,
   "metadata": {},
   "outputs": [
    {
     "data": {
      "text/plain": [
       "array([[ 2,  4,  6,  8],\n",
       "       [ 2,  4,  6,  8],\n",
       "       [ 3,  6,  9, 12]])"
      ]
     },
     "execution_count": 45,
     "metadata": {},
     "output_type": "execute_result"
    }
   ],
   "source": [
    "b3"
   ]
  },
  {
   "cell_type": "code",
   "execution_count": 46,
   "metadata": {},
   "outputs": [
    {
     "data": {
      "text/plain": [
       "array([[ 1,  2,  3,  4],\n",
       "       [ 2,  4,  6,  8],\n",
       "       [ 3,  6,  9, 12]])"
      ]
     },
     "execution_count": 46,
     "metadata": {},
     "output_type": "execute_result"
    }
   ],
   "source": [
    "a3"
   ]
  },
  {
   "cell_type": "markdown",
   "metadata": {},
   "source": [
    "### <li>重新塑形"
   ]
  },
  {
   "cell_type": "code",
   "execution_count": 47,
   "metadata": {},
   "outputs": [
    {
     "name": "stdout",
     "output_type": "stream",
     "text": [
      "grid= [0 1 2 3 4 5 6 7 8 9]\n",
      "shape= (10,)\n"
     ]
    }
   ],
   "source": [
    "grid = np.arange(0,10)\n",
    "print('grid=',grid)\n",
    "print('shape=',grid.shape)"
   ]
  },
  {
   "cell_type": "code",
   "execution_count": 48,
   "metadata": {},
   "outputs": [
    {
     "data": {
      "text/plain": [
       "array([[0, 1, 2, 3, 4],\n",
       "       [5, 6, 7, 8, 9]])"
      ]
     },
     "execution_count": 48,
     "metadata": {},
     "output_type": "execute_result"
    }
   ],
   "source": [
    "grid_re = grid.reshape((2,5))\n",
    "grid_re"
   ]
  },
  {
   "cell_type": "code",
   "execution_count": 49,
   "metadata": {},
   "outputs": [
    {
     "data": {
      "text/plain": [
       "array([0, 1, 2, 3, 4, 5, 0, 7, 8, 9])"
      ]
     },
     "execution_count": 49,
     "metadata": {},
     "output_type": "execute_result"
    }
   ],
   "source": [
    "grid_re[1][1]=0\n",
    "grid"
   ]
  },
  {
   "cell_type": "code",
   "execution_count": 50,
   "metadata": {},
   "outputs": [
    {
     "data": {
      "text/plain": [
       "array([[1],\n",
       "       [2],\n",
       "       [3],\n",
       "       [4],\n",
       "       [5],\n",
       "       [6],\n",
       "       [7],\n",
       "       [8],\n",
       "       [9]])"
      ]
     },
     "execution_count": 50,
     "metadata": {},
     "output_type": "execute_result"
    }
   ],
   "source": [
    "grid = np.arange(1,10)\n",
    "grid.reshape(9,1)"
   ]
  },
  {
   "cell_type": "code",
   "execution_count": 51,
   "metadata": {},
   "outputs": [
    {
     "data": {
      "text/plain": [
       "array([[1],\n",
       "       [2],\n",
       "       [3],\n",
       "       [4],\n",
       "       [5],\n",
       "       [6],\n",
       "       [7],\n",
       "       [8],\n",
       "       [9]])"
      ]
     },
     "execution_count": 51,
     "metadata": {},
     "output_type": "execute_result"
    }
   ],
   "source": [
    "grid = np.arange(1,10)\n",
    "grid[:,np.newaxis]"
   ]
  },
  {
   "cell_type": "markdown",
   "metadata": {},
   "source": [
    "### <li>串接"
   ]
  },
  {
   "cell_type": "code",
   "execution_count": 52,
   "metadata": {},
   "outputs": [
    {
     "data": {
      "text/plain": [
       "array([1, 2, 3, 4, 1, 1, 2, 2])"
      ]
     },
     "execution_count": 52,
     "metadata": {},
     "output_type": "execute_result"
    }
   ],
   "source": [
    "a = np.array([1,2,3,4])\n",
    "b = np.array([1,1,2,2])\n",
    "concat = np.concatenate([a,b])\n",
    "concat"
   ]
  },
  {
   "cell_type": "code",
   "execution_count": 53,
   "metadata": {},
   "outputs": [
    {
     "name": "stdout",
     "output_type": "stream",
     "text": [
      "[[1 2 3 4]\n",
      " [2 4 6 8]\n",
      " [1 1 2 2]\n",
      " [2 2 1 1]]\n",
      "type= <class 'numpy.ndarray'>\n",
      "ndim = 2\n",
      "shape = (4, 4)\n"
     ]
    }
   ],
   "source": [
    "a = np.array([[1,2,3,4],[2,4,6,8]])\n",
    "b = np.array([[1,1,2,2],[2,2,1,1]])\n",
    "concat = np.concatenate([a,b])\n",
    "print(concat)\n",
    "print(\"type=\",type(concat))\n",
    "print('ndim =',concat.ndim)\n",
    "print('shape =',concat.shape)"
   ]
  },
  {
   "cell_type": "code",
   "execution_count": 54,
   "metadata": {},
   "outputs": [
    {
     "name": "stdout",
     "output_type": "stream",
     "text": [
      "[[1 2 3 4]\n",
      " [2 4 6 8]\n",
      " [1 1 2 2]\n",
      " [2 2 1 1]]\n",
      "type= <class 'numpy.ndarray'>\n",
      "ndim = 2\n",
      "shape = (4, 4)\n"
     ]
    }
   ],
   "source": [
    "a = np.array([[1,2,3,4],[2,4,6,8]])\n",
    "b = np.array([[1,1,2,2],[2,2,1,1]])\n",
    "concat = np.concatenate([a,b],axis=0)\n",
    "print(concat)\n",
    "print(\"type=\",type(concat))\n",
    "print('ndim =',concat.ndim)\n",
    "print('shape =',concat.shape)"
   ]
  },
  {
   "cell_type": "code",
   "execution_count": 55,
   "metadata": {},
   "outputs": [
    {
     "name": "stdout",
     "output_type": "stream",
     "text": [
      "[[1 2 3 4 1 1 2 2]\n",
      " [2 4 6 8 2 2 1 1]]\n",
      "type= <class 'numpy.ndarray'>\n",
      "ndim = 2\n",
      "shape = (2, 8)\n"
     ]
    }
   ],
   "source": [
    "a = np.array([[1,2,3,4],[2,4,6,8]])\n",
    "b = np.array([[1,1,2,2],[2,2,1,1]])\n",
    "concat = np.concatenate([a,b],axis=1)\n",
    "print(concat)\n",
    "print(\"type=\",type(concat))\n",
    "print('ndim =',concat.ndim)\n",
    "print('shape =',concat.shape)"
   ]
  },
  {
   "cell_type": "code",
   "execution_count": 56,
   "metadata": {},
   "outputs": [
    {
     "name": "stdout",
     "output_type": "stream",
     "text": [
      "[[1 2 3 4]\n",
      " [2 4 6 8]\n",
      " [1 1 2 2]]\n",
      "type= <class 'numpy.ndarray'>\n",
      "ndim = 2\n",
      "shape = (3, 4)\n"
     ]
    }
   ],
   "source": [
    "a = np.array([[1,2,3,4],[2,4,6,8]])\n",
    "b = np.array([1,1,2,2])\n",
    "concat = np.vstack([a,b])    #垂直堆疊\n",
    "print(concat)\n",
    "print(\"type=\",type(concat))\n",
    "print('ndim =',concat.ndim)\n",
    "print('shape =',concat.shape)"
   ]
  },
  {
   "cell_type": "code",
   "execution_count": 57,
   "metadata": {},
   "outputs": [
    {
     "name": "stdout",
     "output_type": "stream",
     "text": [
      "[[ 1  2  3  4 99]\n",
      " [ 2  4  6  8 99]]\n",
      "type= <class 'numpy.ndarray'>\n",
      "ndim = 2\n",
      "shape = (2, 5)\n"
     ]
    }
   ],
   "source": [
    "a = np.array([[1,2,3,4],[2,4,6,8]])\n",
    "y = np.array([[99],[99]])\n",
    "concat = np.hstack([a,y])   #水平疊加\n",
    "print(concat)\n",
    "print(\"type=\",type(concat))\n",
    "print('ndim =',concat.ndim)\n",
    "print('shape =',concat.shape)"
   ]
  },
  {
   "cell_type": "code",
   "execution_count": 58,
   "metadata": {},
   "outputs": [
    {
     "name": "stdout",
     "output_type": "stream",
     "text": [
      "[[[1 1]\n",
      "  [2 1]\n",
      "  [3 2]\n",
      "  [4 2]]\n",
      "\n",
      " [[2 2]\n",
      "  [4 2]\n",
      "  [6 1]\n",
      "  [8 1]]]\n",
      "type= <class 'numpy.ndarray'>\n",
      "ndim = 3\n",
      "shape = (2, 4, 2)\n"
     ]
    }
   ],
   "source": [
    "a = np.array([[1,2,3,4],[2,4,6,8]])\n",
    "b = np.array([[1,1,2,2],[2,2,1,1]])\n",
    "concat = np.dstack([a,b])\n",
    "print(concat)\n",
    "print(\"type=\",type(concat))\n",
    "print('ndim =',concat.ndim)\n",
    "print('shape =',concat.shape)"
   ]
  },
  {
   "cell_type": "code",
   "execution_count": 59,
   "metadata": {},
   "outputs": [
    {
     "name": "stdout",
     "output_type": "stream",
     "text": [
      "[[[1 2 3 4]\n",
      "  [2 4 6 8]]\n",
      "\n",
      " [[1 1 2 2]\n",
      "  [2 2 1 1]]\n",
      "\n",
      " [[5 5 6 6]\n",
      "  [7 7 8 8]]]\n",
      "type= <class 'numpy.ndarray'>\n",
      "ndim = 3\n",
      "shape = (3, 2, 4)\n"
     ]
    }
   ],
   "source": [
    "a = np.array([[1,2,3,4],[2,4,6,8]])\n",
    "b = np.array([[1,1,2,2],[2,2,1,1]])\n",
    "c = np.array([[5,5,6,6],[7,7,8,8]])\n",
    "concat = np.stack([a,b,c])      #預設為 x 軸(axis=0)\n",
    "print(concat)\n",
    "print(\"type=\",type(concat))\n",
    "print('ndim =',concat.ndim)\n",
    "print('shape =',concat.shape)"
   ]
  },
  {
   "cell_type": "code",
   "execution_count": 60,
   "metadata": {},
   "outputs": [
    {
     "name": "stdout",
     "output_type": "stream",
     "text": [
      "[[[1 2 3 4]\n",
      "  [2 4 6 8]]\n",
      "\n",
      " [[1 1 2 2]\n",
      "  [2 2 1 1]]\n",
      "\n",
      " [[5 5 6 6]\n",
      "  [7 7 8 8]]]\n",
      "type= <class 'numpy.ndarray'>\n",
      "ndim = 3\n",
      "shape = (3, 2, 4)\n"
     ]
    }
   ],
   "source": [
    "a = np.array([[1,2,3,4],[2,4,6,8]])\n",
    "b = np.array([[1,1,2,2],[2,2,1,1]])\n",
    "c = np.array([[5,5,6,6],[7,7,8,8]])\n",
    "concat = np.stack([a,b,c],axis=0)         # X =>  Y  => Z    (3,2,4)\n",
    "print(concat)\n",
    "print(\"type=\",type(concat))\n",
    "print('ndim =',concat.ndim)\n",
    "print('shape =',concat.shape)"
   ]
  },
  {
   "cell_type": "code",
   "execution_count": 61,
   "metadata": {},
   "outputs": [
    {
     "name": "stdout",
     "output_type": "stream",
     "text": [
      "[[[1 2 3 4]\n",
      "  [1 1 2 2]\n",
      "  [5 5 6 6]]\n",
      "\n",
      " [[2 4 6 8]\n",
      "  [2 2 1 1]\n",
      "  [7 7 8 8]]]\n",
      "type= <class 'numpy.ndarray'>\n",
      "ndim = 3\n",
      "shape = (2, 3, 4)\n"
     ]
    }
   ],
   "source": [
    "a = np.array([[1,2,3,4],[2,4,6,8]])\n",
    "b = np.array([[1,1,2,2],[2,2,1,1]])\n",
    "c = np.array([[5,5,6,6],[7,7,8,8]])\n",
    "concat = np.stack([a,b,c],axis=1)         # Y =>  X  => Z    (2,3,4)\n",
    "print(concat)\n",
    "print(\"type=\",type(concat))\n",
    "print('ndim =',concat.ndim)\n",
    "print('shape =',concat.shape)"
   ]
  },
  {
   "cell_type": "code",
   "execution_count": 62,
   "metadata": {},
   "outputs": [
    {
     "name": "stdout",
     "output_type": "stream",
     "text": [
      "[[[1 1 5]\n",
      "  [2 1 5]\n",
      "  [3 2 6]\n",
      "  [4 2 6]]\n",
      "\n",
      " [[2 2 7]\n",
      "  [4 2 7]\n",
      "  [6 1 8]\n",
      "  [8 1 8]]]\n",
      "type= <class 'numpy.ndarray'>\n",
      "ndim = 3\n",
      "shape = (2, 4, 3)\n"
     ]
    }
   ],
   "source": [
    "a = np.array([[1,2,3,4],[2,4,6,8]])\n",
    "b = np.array([[1,1,2,2],[2,2,1,1]])\n",
    "c = np.array([[5,5,6,6],[7,7,8,8]])\n",
    "concat = np.stack([a,b,c],axis=2)         # Y =>  Z  => X    (2,4,3)    #重心放在新維上\n",
    "print(concat)\n",
    "print(\"type=\",type(concat))\n",
    "print('ndim =',concat.ndim)\n",
    "print('shape =',concat.shape)"
   ]
  },
  {
   "cell_type": "markdown",
   "metadata": {},
   "source": [
    "### <li>分割\n",
    "    割完會變list !!"
   ]
  },
  {
   "cell_type": "code",
   "execution_count": 63,
   "metadata": {},
   "outputs": [
    {
     "name": "stdout",
     "output_type": "stream",
     "text": [
      "[array([], dtype=int32), array([1, 2, 3, 4, 1, 1, 2, 2])]\n",
      "[array([1]), array([2, 3, 4, 1, 1, 2, 2])]\n",
      "[array([1]), array([2]), array([3, 4, 1, 1, 2, 2])]\n",
      "[array([1]), array([2]), array([3, 4, 1, 1, 2, 2])]\n"
     ]
    }
   ],
   "source": [
    "a = np.array([1, 2, 3, 4, 1, 1, 2, 2])\n",
    "print(np.split(a,[0]))\n",
    "print(np.split(a,[1]))\n",
    "print(np.split(a,[1,2]))\n",
    "print(np.split(a,[1,2]))"
   ]
  },
  {
   "cell_type": "code",
   "execution_count": 64,
   "metadata": {},
   "outputs": [
    {
     "name": "stdout",
     "output_type": "stream",
     "text": [
      "[array([[1, 2, 3, 4],\n",
      "       [2, 4, 6, 8]]), array([[5, 5, 6, 6]])]\n",
      "type =  <class 'list'>\n",
      "len =  2\n",
      "[array([[1, 2, 3, 4]]), array([[2, 4, 6, 8]]), array([[5, 5, 6, 6]])]\n",
      "type =  <class 'list'>\n",
      "len =  3\n"
     ]
    }
   ],
   "source": [
    "a = np.array([[1,2,3,4],[2,4,6,8],[5,5,6,6]])\n",
    "print(np.vsplit(a,[2]))\n",
    "print('type = ',type(np.vsplit(a,[2])))\n",
    "print('len = ',len(np.vsplit(a,[2])))\n",
    "\n",
    "print(np.vsplit(a,[1,2]))\n",
    "print('type = ',type(np.vsplit(a,[1,2])))\n",
    "print('len = ',len(np.vsplit(a,[1,2])))"
   ]
  },
  {
   "cell_type": "code",
   "execution_count": 65,
   "metadata": {},
   "outputs": [
    {
     "name": "stdout",
     "output_type": "stream",
     "text": [
      "[array([[1, 2],\n",
      "       [2, 4],\n",
      "       [5, 5]]), array([[3, 4],\n",
      "       [6, 8],\n",
      "       [6, 6]])]\n",
      "type =  <class 'list'>\n",
      "len =  2\n",
      "[array([[1],\n",
      "       [2],\n",
      "       [5]]), array([[2],\n",
      "       [4],\n",
      "       [5]]), array([[3, 4],\n",
      "       [6, 8],\n",
      "       [6, 6]])]\n",
      "type =  <class 'list'>\n",
      "len =  3\n"
     ]
    }
   ],
   "source": [
    "a = np.array([[1,2,3,4],[2,4,6,8],[5,5,6,6]])\n",
    "print(np.hsplit(a,[2]))\n",
    "print('type = ',type(np.hsplit(a,[2])))\n",
    "print('len = ',len(np.hsplit(a,[2])))\n",
    "\n",
    "print(np.hsplit(a,[1,2]))\n",
    "print('type = ',type(np.hsplit(a,[1,2])))\n",
    "print('len = ',len(np.hsplit(a,[1,2])))\n"
   ]
  },
  {
   "cell_type": "code",
   "execution_count": 66,
   "metadata": {},
   "outputs": [
    {
     "data": {
      "text/plain": [
       "array([[[ 0.,  1.,  2.],\n",
       "        [ 3.,  4.,  5.]],\n",
       "\n",
       "       [[ 6.,  7.,  8.],\n",
       "        [ 9., 10., 11.]]])"
      ]
     },
     "execution_count": 66,
     "metadata": {},
     "output_type": "execute_result"
    }
   ],
   "source": [
    "a =  np.arange(12.0).reshape (2,2,3)\n",
    "a"
   ]
  },
  {
   "cell_type": "code",
   "execution_count": 67,
   "metadata": {},
   "outputs": [
    {
     "name": "stdout",
     "output_type": "stream",
     "text": [
      "[array([[[ 0.,  1.,  2.],\n",
      "        [ 3.,  4.,  5.]],\n",
      "\n",
      "       [[ 6.,  7.,  8.],\n",
      "        [ 9., 10., 11.]]])]\n",
      "[array([[[0.],\n",
      "        [3.]],\n",
      "\n",
      "       [[6.],\n",
      "        [9.]]]), array([[[ 1.],\n",
      "        [ 4.]],\n",
      "\n",
      "       [[ 7.],\n",
      "        [10.]]]), array([[[ 2.],\n",
      "        [ 5.]],\n",
      "\n",
      "       [[ 8.],\n",
      "        [11.]]])]\n"
     ]
    }
   ],
   "source": [
    "print(np.dsplit(a,1))\n",
    "print(np.dsplit(a,3))"
   ]
  }
 ],
 "metadata": {
  "kernelspec": {
   "display_name": "Python 3",
   "language": "python",
   "name": "python3"
  },
  "language_info": {
   "codemirror_mode": {
    "name": "ipython",
    "version": 3
   },
   "file_extension": ".py",
   "mimetype": "text/x-python",
   "name": "python",
   "nbconvert_exporter": "python",
   "pygments_lexer": "ipython3",
   "version": "3.7.0"
  }
 },
 "nbformat": 4,
 "nbformat_minor": 2
}
