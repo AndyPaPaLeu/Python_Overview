{
 "cells": [
  {
   "cell_type": "markdown",
   "metadata": {},
   "source": [
    "### 分五種等級\n",
    "debug()<br>\n",
    "info()<br>\n",
    "warning()<br>\n",
    "error()<br>\n",
    "critical()<br>\n",
    "可見預設情況下, 只有等級大於或等於 WARNING 的才會被記錄<br>\n",
    "logging 模組的 basicConfig() 函數可以設定日誌之安全層級, 只要將安全等級以 level 參數傳進去即可"
   ]
  },
  {
   "cell_type": "code",
   "execution_count": 1,
   "metadata": {},
   "outputs": [],
   "source": [
    "import logging\n",
    "logging.debug(\"Debug message\")"
   ]
  },
  {
   "cell_type": "code",
   "execution_count": 2,
   "metadata": {},
   "outputs": [],
   "source": [
    "logging.info(\"info message\")"
   ]
  },
  {
   "cell_type": "code",
   "execution_count": 3,
   "metadata": {},
   "outputs": [
    {
     "name": "stderr",
     "output_type": "stream",
     "text": [
      "WARNING:root:I'm a warning~!\n"
     ]
    }
   ],
   "source": [
    "logging.warning(\"I'm a warning~!\")"
   ]
  },
  {
   "cell_type": "code",
   "execution_count": 4,
   "metadata": {},
   "outputs": [
    {
     "name": "stderr",
     "output_type": "stream",
     "text": [
      "ERROR:root:error message\n"
     ]
    }
   ],
   "source": [
    "logging.error(\"error message\")"
   ]
  },
  {
   "cell_type": "code",
   "execution_count": 5,
   "metadata": {},
   "outputs": [
    {
     "name": "stderr",
     "output_type": "stream",
     "text": [
      "CRITICAL:root:critical message\n"
     ]
    }
   ],
   "source": [
    "logging.critical(\"critical message\")      "
   ]
  },
  {
   "cell_type": "code",
   "execution_count": 6,
   "metadata": {},
   "outputs": [
    {
     "name": "stderr",
     "output_type": "stream",
     "text": [
      "WARNING:root:Look before you leap!\n"
     ]
    }
   ],
   "source": [
    "logging.warning('%s before you %s', 'Look', 'leap!')"
   ]
  },
  {
   "cell_type": "code",
   "execution_count": 7,
   "metadata": {},
   "outputs": [
    {
     "name": "stderr",
     "output_type": "stream",
     "text": [
      "DEBUG:This message should appear on the console\n",
      "INFO:So should this\n",
      "WARNING:And this, too\n"
     ]
    }
   ],
   "source": [
    "logging.getLogger('').handlers = []  #clean the loggings without explicitly name which might make confusion of the target you want to control.\n",
    "logging.basicConfig(format='%(levelname)s:%(message)s', level=logging.DEBUG)\n",
    "logging.debug('This message should appear on the console')\n",
    "logging.info('So should this')\n",
    "logging.warning('And this, too')"
   ]
  },
  {
   "cell_type": "markdown",
   "metadata": {},
   "source": [
    "### logging.basicConfig()\n",
    "level\t 日誌之安全等級 (0, 10, 20, 40, 50)<br>\n",
    "format\t 控制輸出訊息的格式化字串<br>\n",
    "filename\t 用來儲存輸出訊息的日誌檔案名稱<br>\n",
    "filemode\t 開啟日誌檔案之模式, 如 'a' (預設), 'w' 等<br>\n",
    "datefmt\t 輸出日期時間 asctime 之格式字串, 與 time.strftime()<br>\n",
    "style\t 格式化字串的標示字元, 有三種 : % (預設), {, 或 $<br>\n",
    "handlers\t 加入至根日誌之處理器, 不可與 stream, filename 同時存在<br>\n",
    "stream\t 標準輸出之串流\n",
    "> %(asctime)s\t 日期時間, 格式為 YYYY-MM-DD HH:mm:SS,ms (毫秒)<br>\n",
    " %(created)f\t 以 UNIX 標準表示之現在時間 (浮點數)<br>\n",
    " %(funcName)s\t 日誌輸出函數之名稱<br>\n",
    " %(filename)s\t 日誌輸出函數之模組的檔名<br>\n",
    " %(levelname)s\t 日誌安全等級<br>\n",
    " %(levelno)s\t 日誌安全等級之數值<br>\n",
    " %(lineno)d\t 日誌輸出函數呼叫於程式中所在之列數<br>\n",
    " %(module)s\t 日誌輸出函數之模組名稱<br>\n",
    " %(message)s\t 使用者自訂訊息<br>\n",
    " %(name)s\t 使用者名稱 (帳號) <br>\n",
    " %(process)d\t 程序 ID<br>\n",
    " %(pathname)s\t 日誌輸出函數之模組之完整路徑<br>\n",
    " %(threrad)d\t 執行緒 ID<br>\n",
    " %(threradName)s\t 執行緒名稱<br>\n",
    "\n",
    ">> %Y\t 長年份格式, 例如 2018<br>\n",
    "%y\t 短年份格式, 例如 18<br>\n",
    "%m\t 月份 01-12<br>\n",
    "%d\t 日期 01-31<br>\n",
    "%H\t 小時 00-23<br>\n",
    "%w\t 星期 0-6 (0=星期日)<br>\n",
    "%M\t 分鐘 00-59<br>\n",
    "%S\t 秒 00-59"
   ]
  },
  {
   "cell_type": "markdown",
   "metadata": {},
   "source": [
    "Loggers:\n",
    "configuration and message sending\n",
    ">Logger.setLevel()<br>\n",
    "Logger.addHandler()、Logger.removeHandler()<br>\n",
    "Logger.addFilter()、Logger.removeFilter()<br>\n",
    "\n",
    ">Logger.exception() With stack trace. Call this method only from an exception handler. <br>\n",
    "logging.getLogger() With the specified name\n",
    "\n",
    "\n",
    "Handler\n",
    "dispatching the appropriate log message\n",
    ">StreamHandler and FileHandler<br>\n",
    "setLevel()<br>\n",
    "setFormatter()<br>\n",
    "addFilter()、removeFilter() <br>\n",
    "> - **StreamHandler**  向類似與sys.stdout或者sys.stderr的任何文件對象(file object)輸出信息，默認是sys.stderr<br>\n",
    "> - **FileHandler**   用於向一個文件輸出日誌信息。不過FileHandler會幫你打開這個文件，必須指定一個文件名,mode是文件的打開方式，default是'a'。<br>\n",
    "> - **handlers.RotatingFileHandler**    當文件達到一定大小之後，它會自動將當前日誌文件改名，然後創建一個新的同名日誌文件繼續輸出，maxBytes用於指定日誌文件的最大文件大小(0=無限)，backupCount用於指定保留的備份文件的個數。<br>\n",
    "> - **handlers.TimedRotatingFileHandler**    間隔一定時間就自動創建新的日誌文件，新的文件不是附加數字，而是當前時間<br>\n",
    "\n",
    "LogRecord instances are created automatically by the Logger"
   ]
  },
  {
   "cell_type": "code",
   "execution_count": 8,
   "metadata": {},
   "outputs": [
    {
     "name": "stderr",
     "output_type": "stream",
     "text": [
      "2019-11-21 18:47:21,584 - simple_example - DEBUG - debug message\n",
      "2019-11-21 18:47:21,586 - simple_example - INFO - info message\n",
      "2019-11-21 18:47:21,588 - simple_example - WARNING - warn message\n",
      "2019-11-21 18:47:21,590 - simple_example - ERROR - error message\n",
      "2019-11-21 18:47:21,591 - simple_example - CRITICAL - critical message\n"
     ]
    }
   ],
   "source": [
    "logging.getLogger('').handlers = []\n",
    "\n",
    "# create logger\n",
    "logger = logging.getLogger('simple_example')\n",
    "logger.setLevel(logging.DEBUG)\n",
    "\n",
    "# create console handler and set level to debug\n",
    "ch = logging.StreamHandler()\n",
    "ch.setLevel(logging.DEBUG)\n",
    "\n",
    "# create formatter\n",
    "formatter = logging.Formatter('%(asctime)s - %(name)s - %(levelname)s - %(message)s')\n",
    "\n",
    "# add formatter to ch\n",
    "ch.setFormatter(formatter)\n",
    "\n",
    "# add ch to logger\n",
    "logger.addHandler(ch)\n",
    "\n",
    "# 'application' code\n",
    "logger.debug('debug message')\n",
    "logger.info('info message')\n",
    "logger.warning('warn message')\n",
    "logger.error('error message')\n",
    "logger.critical('critical message')"
   ]
  },
  {
   "cell_type": "markdown",
   "metadata": {},
   "source": [
    "### It's able to get the configration from the config file"
   ]
  },
  {
   "cell_type": "code",
   "execution_count": 9,
   "metadata": {},
   "outputs": [
    {
     "name": "stdout",
     "output_type": "stream",
     "text": [
      "2019-11-21 18:47:21,637 - simpleExample - DEBUG - debug message\n",
      "2019-11-21 18:47:21,639 - simpleExample - INFO - info message\n",
      "2019-11-21 18:47:21,640 - simpleExample - WARNING - warn message\n",
      "2019-11-21 18:47:21,641 - simpleExample - ERROR - error message\n",
      "2019-11-21 18:47:21,642 - simpleExample - CRITICAL - critical message\n"
     ]
    }
   ],
   "source": [
    "import logging\n",
    "import logging.config\n",
    "logging.getLogger('').handlers = []\n",
    "\n",
    "logging.config.fileConfig('logging.conf')\n",
    "\n",
    "# create logger\n",
    "logger = logging.getLogger('simpleExample')\n",
    "\n",
    "# 'application' code\n",
    "logger.debug('debug message')\n",
    "logger.info('info message')\n",
    "logger.warning('warn message')\n",
    "logger.error('error message')\n",
    "logger.critical('critical message')"
   ]
  },
  {
   "cell_type": "markdown",
   "metadata": {},
   "source": [
    "### Another practice"
   ]
  },
  {
   "cell_type": "code",
   "execution_count": 10,
   "metadata": {},
   "outputs": [
    {
     "data": {
      "text/plain": [
       "<module 'logging' from 'C:\\\\Users\\\\user\\\\Anaconda3\\\\lib\\\\logging\\\\__init__.py'>"
      ]
     },
     "execution_count": 10,
     "metadata": {},
     "output_type": "execute_result"
    }
   ],
   "source": [
    "logging"
   ]
  },
  {
   "cell_type": "code",
   "execution_count": 11,
   "metadata": {},
   "outputs": [
    {
     "data": {
      "text/plain": [
       "<Logger __main__ (DEBUG)>"
      ]
     },
     "execution_count": 11,
     "metadata": {},
     "output_type": "execute_result"
    }
   ],
   "source": [
    "logging.getLogger(__name__)"
   ]
  },
  {
   "cell_type": "code",
   "execution_count": 12,
   "metadata": {},
   "outputs": [
    {
     "name": "stdout",
     "output_type": "stream",
     "text": [
      "2019-11-21 18:47:21,701 - root - WARNING - I'm a warning~!\n",
      "2019-11-21 18:47:21,704 - root - DEBUG - Debug message\n"
     ]
    }
   ],
   "source": [
    "logging.basicConfig(level=logging.WARNING,format='%(asctime)s - %(levelname)s : %(message)s')\n",
    "logging.warning(\"I'm a warning~!\")\n",
    "logging.basicConfig(level=logging.DEBUG,format='%(asctime)s - %(levelname)s : %(message)s')\n",
    "logging.debug(\"Debug message\")"
   ]
  },
  {
   "cell_type": "code",
   "execution_count": 13,
   "metadata": {},
   "outputs": [],
   "source": [
    "handler_file = logging.FileHandler(\"xxxxsssxxxxx.log\")\n",
    "logger.addHandler(handler_file)"
   ]
  },
  {
   "cell_type": "code",
   "execution_count": 14,
   "metadata": {},
   "outputs": [
    {
     "name": "stdout",
     "output_type": "stream",
     "text": [
      "2019-11-21 18:47:21,739 - root - DEBUG - Debug message\n"
     ]
    }
   ],
   "source": [
    "logging.debug(\"Debug message\")"
   ]
  },
  {
   "cell_type": "code",
   "execution_count": 15,
   "metadata": {},
   "outputs": [
    {
     "name": "stdout",
     "output_type": "stream",
     "text": [
      "2019-11-21 18:47:21,757 - root - DEBUG - Debug message\n"
     ]
    }
   ],
   "source": [
    "logging.debug(\"Debug message\")"
   ]
  },
  {
   "cell_type": "markdown",
   "metadata": {},
   "source": [
    "### Harry's version"
   ]
  },
  {
   "cell_type": "code",
   "execution_count": 16,
   "metadata": {},
   "outputs": [],
   "source": [
    "import logging\n",
    "logging.getLogger('AA').handlers = []"
   ]
  },
  {
   "cell_type": "code",
   "execution_count": 17,
   "metadata": {},
   "outputs": [],
   "source": [
    "handler_file = logging.FileHandler(\"xxxxxxxxx.log\")\n",
    "logging_stream = logging.StreamHandler()"
   ]
  },
  {
   "cell_type": "code",
   "execution_count": 18,
   "metadata": {},
   "outputs": [],
   "source": [
    "formatter = logging.Formatter(\"%(asctime)s [%(levelname)s] %(message)s (%(filename)s %(lineno)d)\", datefmt='%Y/%m/%d %I:%M:%S')\n",
    "handler_file.setFormatter(formatter)\n",
    "logging_stream.setFormatter(formatter)"
   ]
  },
  {
   "cell_type": "code",
   "execution_count": 19,
   "metadata": {},
   "outputs": [],
   "source": [
    "logger = logging.getLogger(\"AA\")"
   ]
  },
  {
   "cell_type": "code",
   "execution_count": 20,
   "metadata": {},
   "outputs": [],
   "source": [
    "logger.addHandler(handler_file)\n",
    "logger.addHandler(logging_stream)\n",
    "logger.setLevel(logging.DEBUG)"
   ]
  },
  {
   "cell_type": "code",
   "execution_count": 21,
   "metadata": {},
   "outputs": [
    {
     "name": "stderr",
     "output_type": "stream",
     "text": [
      "2019/11/21 06:47:21 [DEBUG] hi (<ipython-input-21-2b3613c18c37> 1)\n"
     ]
    },
    {
     "name": "stdout",
     "output_type": "stream",
     "text": [
      "2019-11-21 18:47:21,891 - AA - DEBUG - hi\n"
     ]
    }
   ],
   "source": [
    "logger.debug(\"hi\")"
   ]
  },
  {
   "cell_type": "markdown",
   "metadata": {},
   "source": [
    "### Make it become into a function"
   ]
  },
  {
   "cell_type": "code",
   "execution_count": 22,
   "metadata": {},
   "outputs": [],
   "source": [
    "logging.getLogger('Testing').handlers = []\n",
    "logging.getLogger('Testing2').handlers = []"
   ]
  },
  {
   "cell_type": "code",
   "execution_count": 23,
   "metadata": {},
   "outputs": [],
   "source": [
    "def add_logger(filename,formatter,log_name,datefmt='%y/%m/%d %I:%M:%S'):\n",
    "    handler_file = logging.FileHandler(filename)\n",
    "    logging_stream = logging.StreamHandler()\n",
    "    formatter = logging.Formatter(formatter,datefmt)\n",
    "    handler_file.setFormatter(formatter)\n",
    "    logging_stream.setFormatter(formatter)\n",
    "    logger = logging.getLogger(log_name)\n",
    "    logger.addHandler(handler_file)\n",
    "    logger.addHandler(logging_stream)\n",
    "    logger.setLevel(logging.DEBUG)\n",
    "    return logger"
   ]
  },
  {
   "cell_type": "code",
   "execution_count": 24,
   "metadata": {},
   "outputs": [],
   "source": [
    "log_name = \"Testing\"\n",
    "filename = \"YYYSS.log\"\n",
    "formatter = '%(asctime)s [%(levelname)s] %(name)s %(message)s (%(filename)s %(lineno)d)'"
   ]
  },
  {
   "cell_type": "code",
   "execution_count": 25,
   "metadata": {},
   "outputs": [],
   "source": [
    "test_logger = add_logger(filename,formatter,log_name)"
   ]
  },
  {
   "cell_type": "code",
   "execution_count": 26,
   "metadata": {},
   "outputs": [
    {
     "name": "stderr",
     "output_type": "stream",
     "text": [
      "19/11/21 06:47:21 [DEBUG] Testing debug message (<ipython-input-26-c5f6c135c0ad> 1)\n"
     ]
    },
    {
     "name": "stdout",
     "output_type": "stream",
     "text": [
      "2019-11-21 18:47:21,971 - Testing - DEBUG - debug message\n"
     ]
    }
   ],
   "source": [
    "test_logger.debug('debug message')"
   ]
  },
  {
   "cell_type": "code",
   "execution_count": 27,
   "metadata": {},
   "outputs": [],
   "source": [
    "test_logger2 = add_logger(filename,formatter,\"Testing2\")"
   ]
  },
  {
   "cell_type": "code",
   "execution_count": 28,
   "metadata": {},
   "outputs": [
    {
     "name": "stderr",
     "output_type": "stream",
     "text": [
      "19/11/21 06:47:22 [DEBUG] Testing2 debug message (<ipython-input-28-f23f15798d51> 1)\n"
     ]
    },
    {
     "name": "stdout",
     "output_type": "stream",
     "text": [
      "2019-11-21 18:47:22,006 - Testing2 - DEBUG - debug message\n"
     ]
    }
   ],
   "source": [
    "test_logger2.debug('debug message')"
   ]
  },
  {
   "cell_type": "code",
   "execution_count": null,
   "metadata": {},
   "outputs": [],
   "source": []
  }
 ],
 "metadata": {
  "kernelspec": {
   "display_name": "Python 3",
   "language": "python",
   "name": "python3"
  },
  "language_info": {
   "codemirror_mode": {
    "name": "ipython",
    "version": 3
   },
   "file_extension": ".py",
   "mimetype": "text/x-python",
   "name": "python",
   "nbconvert_exporter": "python",
   "pygments_lexer": "ipython3",
   "version": "3.7.3"
  }
 },
 "nbformat": 4,
 "nbformat_minor": 2
}
