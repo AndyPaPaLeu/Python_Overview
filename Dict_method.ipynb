{
 "cells": [
  {
   "cell_type": "markdown",
   "metadata": {},
   "source": [
    "# Dict 方法"
   ]
  },
  {
   "cell_type": "code",
   "execution_count": 2,
   "metadata": {},
   "outputs": [
    {
     "data": {
      "text/plain": [
       "{'name': 'andy', 'Age': 18}"
      ]
     },
     "execution_count": 2,
     "metadata": {},
     "output_type": "execute_result"
    }
   ],
   "source": [
    "dic1 = {'name':'andy','Age':18}\n",
    "dic1"
   ]
  },
  {
   "cell_type": "code",
   "execution_count": 3,
   "metadata": {},
   "outputs": [
    {
     "data": {
      "text/plain": [
       "{}"
      ]
     },
     "execution_count": 3,
     "metadata": {},
     "output_type": "execute_result"
    }
   ],
   "source": [
    "dic1 = {'name':'andy','Age':18}\n",
    "dic1.clear()\n",
    "dic1"
   ]
  },
  {
   "cell_type": "markdown",
   "metadata": {},
   "source": [
    "### 複製 \n",
    "copy(淺)"
   ]
  },
  {
   "cell_type": "code",
   "execution_count": 5,
   "metadata": {},
   "outputs": [
    {
     "data": {
      "text/plain": [
       "({'Name': 'andy', 'Age': 20}, {'Name': 'andy', 'Age': 18})"
      ]
     },
     "execution_count": 5,
     "metadata": {},
     "output_type": "execute_result"
    }
   ],
   "source": [
    "dic1 = {'Name':'andy','Age':18}\n",
    "dic2=dic1.copy()\n",
    "dic1['Age']=20\n",
    "dic1,dic2"
   ]
  },
  {
   "cell_type": "code",
   "execution_count": 6,
   "metadata": {},
   "outputs": [
    {
     "data": {
      "text/plain": [
       "({'Name': 'andy', 'Age': 18, 'else': {'a': 3, 'b': 2}},\n",
       " {'Name': 'andy', 'Age': 18, 'else': {'a': 3, 'b': 2}})"
      ]
     },
     "execution_count": 6,
     "metadata": {},
     "output_type": "execute_result"
    }
   ],
   "source": [
    "dic1 = {'Name':'andy','Age':18,'else':{'a':1,'b':2}}\n",
    "dic2=dic1.copy()\n",
    "dic1['else']['a']=3\n",
    "dic1,dic2"
   ]
  },
  {
   "cell_type": "markdown",
   "metadata": {},
   "source": [
    "### 序列新增\n",
    "fromkeys"
   ]
  },
  {
   "cell_type": "code",
   "execution_count": 8,
   "metadata": {},
   "outputs": [
    {
     "data": {
      "text/plain": [
       "{'A': None}"
      ]
     },
     "execution_count": 8,
     "metadata": {},
     "output_type": "execute_result"
    }
   ],
   "source": [
    "dict1 = dict.fromkeys('A')\n",
    "dict1"
   ]
  },
  {
   "cell_type": "code",
   "execution_count": 9,
   "metadata": {},
   "outputs": [
    {
     "data": {
      "text/plain": [
       "{'A': 1}"
      ]
     },
     "execution_count": 9,
     "metadata": {},
     "output_type": "execute_result"
    }
   ],
   "source": [
    "dict1 = dict.fromkeys('A',1)\n",
    "dict1"
   ]
  },
  {
   "cell_type": "code",
   "execution_count": 7,
   "metadata": {},
   "outputs": [
    {
     "data": {
      "text/plain": [
       "{'Google': None, 'Runoob': None, 'Taobao': None}"
      ]
     },
     "execution_count": 7,
     "metadata": {},
     "output_type": "execute_result"
    }
   ],
   "source": [
    "seq = ('Google', 'Runoob', 'Taobao')\n",
    "dict1 = dict.fromkeys(seq)\n",
    "dict1"
   ]
  },
  {
   "cell_type": "code",
   "execution_count": 10,
   "metadata": {},
   "outputs": [
    {
     "data": {
      "text/plain": [
       "{'Google': 1, 'Runoob': 1, 'Taobao': 1}"
      ]
     },
     "execution_count": 10,
     "metadata": {},
     "output_type": "execute_result"
    }
   ],
   "source": [
    "seq = ('Google', 'Runoob', 'Taobao')\n",
    "dict1 = dict.fromkeys(seq,1)\n",
    "dict1"
   ]
  },
  {
   "cell_type": "markdown",
   "metadata": {},
   "source": [
    "### 取值 與例外狀況\n",
    "(get、setdefault)"
   ]
  },
  {
   "cell_type": "code",
   "execution_count": 13,
   "metadata": {},
   "outputs": [
    {
     "data": {
      "text/plain": [
       "('andy', None, 1)"
      ]
     },
     "execution_count": 13,
     "metadata": {},
     "output_type": "execute_result"
    }
   ],
   "source": [
    "dic1 = {'name':'andy','Age':18}\n",
    "dic1.get('name'),dic1.get('else'),dic1.get('else',1)"
   ]
  },
  {
   "cell_type": "code",
   "execution_count": 23,
   "metadata": {},
   "outputs": [
    {
     "data": {
      "text/plain": [
       "('andy', 'andy')"
      ]
     },
     "execution_count": 23,
     "metadata": {},
     "output_type": "execute_result"
    }
   ],
   "source": [
    "dic1 = {'name':'andy','Age':18}\n",
    "dic1.setdefault('name'),dic1.setdefault('name','Nikson')"
   ]
  },
  {
   "cell_type": "code",
   "execution_count": 24,
   "metadata": {},
   "outputs": [
    {
     "data": {
      "text/plain": [
       "'Nikson'"
      ]
     },
     "execution_count": 24,
     "metadata": {},
     "output_type": "execute_result"
    }
   ],
   "source": [
    "dic1 = {'name':'andy','Age':18}\n",
    "dic1.setdefault('else','Nikson')"
   ]
  },
  {
   "cell_type": "markdown",
   "metadata": {},
   "source": [
    "### 取鍵or值or鍵值對\n",
    "(keys、values、items)"
   ]
  },
  {
   "cell_type": "code",
   "execution_count": 40,
   "metadata": {},
   "outputs": [
    {
     "name": "stdout",
     "output_type": "stream",
     "text": [
      "dict_keys(['Name', 'Age', 'else']) <class 'dict_keys'>\n",
      "dict_values(['andy', 18, {'a': 1, 'b': 2}]) <class 'dict_values'>\n",
      "dict_items([('Name', 'andy'), ('Age', 18), ('else', {'a': 1, 'b': 2})]) <class 'dict_items'>\n"
     ]
    }
   ],
   "source": [
    "dic1 = {'Name':'andy','Age':18,'else':{'a':1,'b':2}}\n",
    "print(dic1.keys(),type(dic1.keys()))\n",
    "print(dic1.values(),type(dic1.values()))\n",
    "print(dic1.items(),type(dic1.items()))"
   ]
  },
  {
   "cell_type": "code",
   "execution_count": 33,
   "metadata": {},
   "outputs": [
    {
     "ename": "TypeError",
     "evalue": "'dict_keys' object does not support indexing",
     "output_type": "error",
     "traceback": [
      "\u001b[1;31m---------------------------------------------------------------------------\u001b[0m",
      "\u001b[1;31mTypeError\u001b[0m                                 Traceback (most recent call last)",
      "\u001b[1;32m<ipython-input-33-4ecca07300e3>\u001b[0m in \u001b[0;36m<module>\u001b[1;34m()\u001b[0m\n\u001b[1;32m----> 1\u001b[1;33m \u001b[0mdic1\u001b[0m\u001b[1;33m.\u001b[0m\u001b[0mkeys\u001b[0m\u001b[1;33m(\u001b[0m\u001b[1;33m)\u001b[0m\u001b[1;33m[\u001b[0m\u001b[1;36m0\u001b[0m\u001b[1;33m]\u001b[0m\u001b[1;33m\u001b[0m\u001b[0m\n\u001b[0m",
      "\u001b[1;31mTypeError\u001b[0m: 'dict_keys' object does not support indexing"
     ]
    }
   ],
   "source": [
    "dic1.keys()[0]  #'dict_keys'、'dict_values'、'dict_items'沒有index"
   ]
  },
  {
   "cell_type": "code",
   "execution_count": 42,
   "metadata": {},
   "outputs": [
    {
     "name": "stdout",
     "output_type": "stream",
     "text": [
      "['Name', 'Age', 'else'] ['andy', 18, {'a': 1, 'b': 2}] [('Name', 'andy'), ('Age', 18), ('else', {'a': 1, 'b': 2})]\n",
      "('Name', 'Age', 'else') ('andy', 18, {'a': 1, 'b': 2}) (('Name', 'andy'), ('Age', 18), ('else', {'a': 1, 'b': 2}))\n"
     ]
    }
   ],
   "source": [
    "print(list(dic1.keys()),list(dic1.values()),list(dic1.items()))\n",
    "print(tuple(dic1.keys()),tuple(dic1.values()),tuple(dic1.items()))"
   ]
  },
  {
   "cell_type": "code",
   "execution_count": 44,
   "metadata": {},
   "outputs": [
    {
     "data": {
      "text/plain": [
       "(['Name', 'Age', 'else'], ('Name', 'Age', 'else'))"
      ]
     },
     "execution_count": 44,
     "metadata": {},
     "output_type": "execute_result"
    }
   ],
   "source": [
    "list(dic1),tuple(dic1)  #直接list、tuple可以取得key"
   ]
  },
  {
   "cell_type": "code",
   "execution_count": 72,
   "metadata": {},
   "outputs": [
    {
     "name": "stdout",
     "output_type": "stream",
     "text": [
      "andy\n",
      "18\n",
      "{'a': 1, 'b': 2}\n"
     ]
    }
   ],
   "source": [
    "dic1 = {'Name':'andy','Age':18,'else':{'a':1,'b':2}}\n",
    "a,b,c=dic1.values()\n",
    "print(a)\n",
    "print(b)\n",
    "print(c)"
   ]
  },
  {
   "cell_type": "code",
   "execution_count": 71,
   "metadata": {},
   "outputs": [
    {
     "name": "stdout",
     "output_type": "stream",
     "text": [
      "('Name', 'andy')\n",
      "('Age', 18)\n",
      "('else', {'a': 1, 'b': 2})\n",
      "Name\n",
      "andy\n"
     ]
    }
   ],
   "source": [
    "dic1 = {'Name':'andy','Age':18,'else':{'a':1,'b':2}}\n",
    "a,b,c=dic1.items()\n",
    "print(a)\n",
    "print(b)\n",
    "print(c)\n",
    "a1,a2=a\n",
    "print(a1)\n",
    "print(a2)"
   ]
  },
  {
   "cell_type": "markdown",
   "metadata": {},
   "source": [
    "### 取值並刪除\n",
    "(pop、popitem)"
   ]
  },
  {
   "cell_type": "code",
   "execution_count": 47,
   "metadata": {},
   "outputs": [
    {
     "name": "stdout",
     "output_type": "stream",
     "text": [
      "andy\n",
      "{'Age': 18, 'else': {'a': 1, 'b': 2}}\n"
     ]
    }
   ],
   "source": [
    "dic1 = {'Name':'andy','Age':18,'else':{'a':1,'b':2}}\n",
    "print(dic1.pop('Name')) #和list不同，因為沒序，所以要給key\n",
    "print(dic1)"
   ]
  },
  {
   "cell_type": "code",
   "execution_count": 74,
   "metadata": {},
   "outputs": [
    {
     "name": "stdout",
     "output_type": "stream",
     "text": [
      "1\n",
      "{'Name': 'andy', 'Age': 18, 'else': {'a': 1, 'b': 2}}\n"
     ]
    }
   ],
   "source": [
    "dic1 = {'Name':'andy','Age':18,'else':{'a':1,'b':2}}\n",
    "print(dic1.pop('Names',1)) #(key,default) 當沒有對應的key，也沒default時會報error\n",
    "print(dic1)"
   ]
  },
  {
   "cell_type": "code",
   "execution_count": 54,
   "metadata": {},
   "outputs": [
    {
     "name": "stdout",
     "output_type": "stream",
     "text": [
      "('else', {'a': 1, 'b': 2})\n",
      "{'Name': 'andy', 'Age': 18}\n"
     ]
    }
   ],
   "source": [
    "dic1 = {'Name':'andy','Age':18,'else':{'a':1,'b':2}}\n",
    "print(dic1.popitem()) #沒序，隨機取並刪除\n",
    "print(dic1)"
   ]
  },
  {
   "cell_type": "code",
   "execution_count": 56,
   "metadata": {},
   "outputs": [
    {
     "data": {
      "text/plain": [
       "('else', {'a': 1, 'b': 2})"
      ]
     },
     "execution_count": 56,
     "metadata": {},
     "output_type": "execute_result"
    }
   ],
   "source": [
    "dic1 = {'Name':'andy','Age':18,'else':{'a':1,'b':2}}\n",
    "a = dic1.popitem() #沒序，隨機取並刪除\n",
    "a"
   ]
  },
  {
   "cell_type": "code",
   "execution_count": 58,
   "metadata": {},
   "outputs": [
    {
     "name": "stdout",
     "output_type": "stream",
     "text": [
      "else\n",
      "{'a': 1, 'b': 2}\n"
     ]
    }
   ],
   "source": [
    "dic1 = {'Name':'andy','Age':18,'else':{'a':1,'b':2}}\n",
    "a,b = dic1.popitem() #沒序，隨機取並刪除\n",
    "print(a)\n",
    "print(b)"
   ]
  },
  {
   "cell_type": "markdown",
   "metadata": {},
   "source": [
    "### 序列更新\n",
    "update"
   ]
  },
  {
   "cell_type": "code",
   "execution_count": 19,
   "metadata": {},
   "outputs": [
    {
     "data": {
      "text/plain": [
       "{'name': 'Nikson', 'Age': 20}"
      ]
     },
     "execution_count": 19,
     "metadata": {},
     "output_type": "execute_result"
    }
   ],
   "source": [
    "dic1 = {'name':'andy','Age':18}\n",
    "dic1.update(name= 'Nikson',Age=20)\n",
    "dic1"
   ]
  },
  {
   "cell_type": "code",
   "execution_count": 20,
   "metadata": {},
   "outputs": [
    {
     "data": {
      "text/plain": [
       "{'name': 'Nikson', 'Age': 18}"
      ]
     },
     "execution_count": 20,
     "metadata": {},
     "output_type": "execute_result"
    }
   ],
   "source": [
    "dic1 = {'name':'andy','Age':18}\n",
    "dic2 = {'name':'Nikson'}\n",
    "dic1.update(dic2)\n",
    "dic1"
   ]
  }
 ],
 "metadata": {
  "kernelspec": {
   "display_name": "Python 3",
   "language": "python",
   "name": "python3"
  },
  "language_info": {
   "codemirror_mode": {
    "name": "ipython",
    "version": 3
   },
   "file_extension": ".py",
   "mimetype": "text/x-python",
   "name": "python",
   "nbconvert_exporter": "python",
   "pygments_lexer": "ipython3",
   "version": "3.7.0"
  }
 },
 "nbformat": 4,
 "nbformat_minor": 2
}
