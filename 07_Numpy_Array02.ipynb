{
 "cells": [
  {
   "cell_type": "markdown",
   "metadata": {},
   "source": [
    "# Array的運算"
   ]
  },
  {
   "cell_type": "code",
   "execution_count": 1,
   "metadata": {},
   "outputs": [],
   "source": [
    "import numpy as np"
   ]
  },
  {
   "cell_type": "markdown",
   "metadata": {},
   "source": [
    "## Ufuncs\n",
    "---\n",
    "np.add　　　　　　　+<br> \n",
    "np.subtract　　　　　-<br>\n",
    "np.negative　　　　　-<br>\n",
    "np.multply　　　　　　*　<br>\n",
    "np.divide　　　　　　/<br>\n",
    "np.floor_divide　　　　//<br>\n",
    "np.mod&nbsp　　　　%<br>\n",
    "np.power　　　　　　**"
   ]
  },
  {
   "cell_type": "code",
   "execution_count": 2,
   "metadata": {},
   "outputs": [
    {
     "name": "stdout",
     "output_type": "stream",
     "text": [
      "[[ 1  2  3  4  5]\n",
      " [ 6  7  8  9 10]]\n",
      "[[10  9  8  7  6]\n",
      " [ 5  4  3  2  1]]\n"
     ]
    }
   ],
   "source": [
    "a=np.arange(1,11).reshape((2,5))\n",
    "b=np.arange(1,11)[::-1].reshape((2,5))\n",
    "print(a)\n",
    "print(b)"
   ]
  },
  {
   "cell_type": "code",
   "execution_count": 3,
   "metadata": {},
   "outputs": [
    {
     "name": "stdout",
     "output_type": "stream",
     "text": [
      "[[11 11 11 11 11]\n",
      " [11 11 11 11 11]]\n",
      "[[-9 -7 -5 -3 -1]\n",
      " [ 1  3  5  7  9]]\n",
      "[[10 18 24 28 30]\n",
      " [30 28 24 18 10]]\n",
      "[[ 0.1         0.22222222  0.375       0.57142857  0.83333333]\n",
      " [ 1.2         1.75        2.66666667  4.5        10.        ]]\n",
      "[[ 0  0  0  0  0]\n",
      " [ 1  1  2  4 10]]\n",
      "[[1 2 3 4 5]\n",
      " [1 3 2 1 0]]\n",
      "[[  1   4   9  16  25]\n",
      " [ 36  49  64  81 100]]\n"
     ]
    }
   ],
   "source": [
    "print(a+b)\n",
    "print(a-b)\n",
    "print(a*b)\n",
    "print(a/b)\n",
    "print(a//b)\n",
    "print(a%b)\n",
    "print(a**2)"
   ]
  },
  {
   "cell_type": "markdown",
   "metadata": {},
   "source": [
    "絕對值\n",
    "abs"
   ]
  },
  {
   "cell_type": "code",
   "execution_count": 4,
   "metadata": {},
   "outputs": [
    {
     "data": {
      "text/plain": [
       "array([-5, -4, -3, -2, -1,  0,  1,  2,  3,  4])"
      ]
     },
     "execution_count": 4,
     "metadata": {},
     "output_type": "execute_result"
    }
   ],
   "source": [
    "a=np.arange(-5,5)\n",
    "a"
   ]
  },
  {
   "cell_type": "code",
   "execution_count": 5,
   "metadata": {},
   "outputs": [
    {
     "data": {
      "text/plain": [
       "(array([5, 4, 3, 2, 1, 0, 1, 2, 3, 4]), array([5, 4, 3, 2, 1, 0, 1, 2, 3, 4]))"
      ]
     },
     "execution_count": 5,
     "metadata": {},
     "output_type": "execute_result"
    }
   ],
   "source": [
    "np.abs(a),np.absolute(a)"
   ]
  },
  {
   "cell_type": "markdown",
   "metadata": {},
   "source": [
    "#### <li>三角函數\n",
    "np.sin(x)<br>\n",
    "np.cos(x)<br>\n",
    "np.tan(x)<br>\n",
    "np.arcsin(x)<br>\n",
    "np.arccos(x)<br>\n",
    "np.arctan(x)<br>"
   ]
  },
  {
   "cell_type": "code",
   "execution_count": 6,
   "metadata": {},
   "outputs": [
    {
     "data": {
      "text/plain": [
       "(array([0.0000000e+00, 1.0000000e+00, 1.2246468e-16]),\n",
       " array([ 1.000000e+00,  6.123234e-17, -1.000000e+00]),\n",
       " array([ 0.00000000e+00,  1.63312394e+16, -1.22464680e-16]))"
      ]
     },
     "execution_count": 6,
     "metadata": {},
     "output_type": "execute_result"
    }
   ],
   "source": [
    "theta = np.linspace(0, np.pi, 3)\n",
    "np.sin(theta), np.cos(theta), np.tan(theta)"
   ]
  },
  {
   "cell_type": "code",
   "execution_count": 7,
   "metadata": {},
   "outputs": [
    {
     "data": {
      "text/plain": [
       "(array([-1.57079633,  0.        , -1.57079633]),\n",
       " array([3.14159265, 1.57079633, 3.14159265]),\n",
       " array([-0.78539816,  0.        , -0.78539816]))"
      ]
     },
     "execution_count": 7,
     "metadata": {},
     "output_type": "execute_result"
    }
   ],
   "source": [
    "x=[-1,0,-1]\n",
    "np.arcsin(x), np.arccos(x), np.arctan(x)"
   ]
  },
  {
   "cell_type": "markdown",
   "metadata": {},
   "source": [
    "#### <li>指對數\n",
    "np.exp(x)　　　　　　e^x<br>\n",
    "np.exp2(x)　　　　　　2^x<br>\n",
    "np.power(底,指)　　　底^指<br>\n",
    "np.log(x)　　　　　　ln(x)<br>\n",
    "np.log2(x)　　　　　　log2(x)<br>\n",
    "np.log10(x)　　　　　log10(x)<br>"
   ]
  },
  {
   "cell_type": "code",
   "execution_count": 8,
   "metadata": {},
   "outputs": [
    {
     "name": "stdout",
     "output_type": "stream",
     "text": [
      "x         =  [1, 2, 4, 10]\n",
      "\n",
      "e^x       =  [2.71828183e+00 7.38905610e+00 5.45981500e+01 2.20264658e+04]\n",
      "2^x       =  [   2.    4.   16. 1024.]\n",
      "3^x       =  [    3     9    81 59049]\n",
      "\n",
      "ln(x)     =  [0.         0.69314718 1.38629436 2.30258509]\n",
      "log2(x)   =  [0.         1.         2.         3.32192809]\n",
      "log10(x)  =  [0.         0.30103    0.60205999 1.        ]\n"
     ]
    }
   ],
   "source": [
    "x=[1,2,4,10]\n",
    "print(\"x         = \",x)\n",
    "print()\n",
    "print(\"e^x       = \",np.exp(x))\n",
    "print(\"2^x       = \",np.exp2(x))\n",
    "print(\"3^x       = \",np.power(3,x))\n",
    "print()\n",
    "print(\"ln(x)     = \",np.log(x))\n",
    "print(\"log2(x)   = \",np.log2(x))\n",
    "print(\"log10(x)  = \",np.log10(x))\n"
   ]
  },
  {
   "cell_type": "markdown",
   "metadata": {},
   "source": [
    "#### <li>設定輸出參數  (out= )"
   ]
  },
  {
   "cell_type": "code",
   "execution_count": 9,
   "metadata": {},
   "outputs": [
    {
     "data": {
      "text/plain": [
       "array([ 0., 10., 20., 30., 40.])"
      ]
     },
     "execution_count": 9,
     "metadata": {},
     "output_type": "execute_result"
    }
   ],
   "source": [
    "x = np.arange(5)\n",
    "y = np.empty(5)\n",
    "np.multiply(x,10,out=y)\n",
    "y"
   ]
  },
  {
   "cell_type": "code",
   "execution_count": 10,
   "metadata": {},
   "outputs": [
    {
     "data": {
      "text/plain": [
       "array([25, 25, 25, 25, 25, 25, 25, 25, 25, 25])"
      ]
     },
     "execution_count": 10,
     "metadata": {},
     "output_type": "execute_result"
    }
   ],
   "source": [
    "y = np.full(10,5)\n",
    "y1 = np.power(y,2,out=y)\n",
    "y1"
   ]
  },
  {
   "cell_type": "code",
   "execution_count": 11,
   "metadata": {},
   "outputs": [
    {
     "data": {
      "text/plain": [
       "array([ 0.,  0.,  1.,  0.,  4.,  0.,  9.,  0., 16.,  0.])"
      ]
     },
     "execution_count": 11,
     "metadata": {},
     "output_type": "execute_result"
    }
   ],
   "source": [
    "y = np.zeros(10)\n",
    "np.power(x,2,out=y[::2])\n",
    "y"
   ]
  },
  {
   "cell_type": "markdown",
   "metadata": {},
   "source": [
    "#### <li>添加型聚合 function (.reduce(x)、.accumulate(x))"
   ]
  },
  {
   "cell_type": "code",
   "execution_count": 12,
   "metadata": {},
   "outputs": [
    {
     "data": {
      "text/plain": [
       "25"
      ]
     },
     "execution_count": 12,
     "metadata": {},
     "output_type": "execute_result"
    }
   ],
   "source": [
    "y = np.full(5,5)\n",
    "np.add.reduce(y)"
   ]
  },
  {
   "cell_type": "code",
   "execution_count": 13,
   "metadata": {},
   "outputs": [
    {
     "data": {
      "text/plain": [
       "3125"
      ]
     },
     "execution_count": 13,
     "metadata": {},
     "output_type": "execute_result"
    }
   ],
   "source": [
    "y = np.full(5,5)\n",
    "np.multiply.reduce(y)"
   ]
  },
  {
   "cell_type": "code",
   "execution_count": 14,
   "metadata": {},
   "outputs": [
    {
     "data": {
      "text/plain": [
       "array([ 5, 10, 15, 20, 25], dtype=int32)"
      ]
     },
     "execution_count": 14,
     "metadata": {},
     "output_type": "execute_result"
    }
   ],
   "source": [
    "y = np.full(5,5)\n",
    "np.add.accumulate(y)"
   ]
  },
  {
   "cell_type": "code",
   "execution_count": 15,
   "metadata": {},
   "outputs": [
    {
     "data": {
      "text/plain": [
       "array([   5,   25,  125,  625, 3125], dtype=int32)"
      ]
     },
     "execution_count": 15,
     "metadata": {},
     "output_type": "execute_result"
    }
   ],
   "source": [
    "y = np.full(5,5)\n",
    "np.multiply.accumulate(y)"
   ]
  },
  {
   "cell_type": "code",
   "execution_count": 16,
   "metadata": {},
   "outputs": [],
   "source": [
    "#at、reduceat 見 Fancy"
   ]
  },
  {
   "cell_type": "markdown",
   "metadata": {},
   "source": [
    "### 聚合 function\n",
    "np.sum　　np.nan...<br>\n",
    "np.prod　　np.nan...<br>\n",
    "np.mean　　np.nan...<br>\n",
    "np.std　　np.nan...<br>\n",
    "np.var　　np.nan...<br>\n",
    "np.min　　np.nan...<br>\n",
    "np.max　　np.nan...<br>\n",
    "np.argmix　　np.nan...<br>\n",
    "np.argmax　　np.nan...<br>\n",
    "np.mediam　　np.nan...<br>\n",
    "np.perentile　　np.nan...<br>\n",
    "np.any　　<br>\n",
    "np.all　　\n"
   ]
  },
  {
   "cell_type": "code",
   "execution_count": 17,
   "metadata": {},
   "outputs": [
    {
     "name": "stdout",
     "output_type": "stream",
     "text": [
      "[[1 2 3]\n",
      " [4 5 6]]\n",
      "21\n",
      "720\n",
      "3.5\n",
      "1\n",
      "6\n"
     ]
    }
   ],
   "source": [
    "M = np.arange(1,7).reshape((2,3))\n",
    "print(M)\n",
    "print(np.sum(M))\n",
    "print(np.prod(M))\n",
    "print(np.mean(M))\n",
    "print(np.min(M))\n",
    "print(np.max(M))"
   ]
  },
  {
   "cell_type": "code",
   "execution_count": 18,
   "metadata": {},
   "outputs": [
    {
     "name": "stdout",
     "output_type": "stream",
     "text": [
      "[0 1 2 3 4 5 6]\n",
      "0\n",
      "6\n",
      "3.0\n"
     ]
    }
   ],
   "source": [
    "M = np.arange(0,7)\n",
    "print(M)\n",
    "print(np.argmin(M))  #回傳索引位置\n",
    "print(np.argmax(M))  #回傳索引位置\n",
    "print(np.median(M))"
   ]
  },
  {
   "cell_type": "code",
   "execution_count": 19,
   "metadata": {},
   "outputs": [
    {
     "name": "stdout",
     "output_type": "stream",
     "text": [
      "0.849967818942935\n",
      "0.72244529323861\n"
     ]
    }
   ],
   "source": [
    "M = np.random.normal(0,1,(3,3))\n",
    "print(np.std(M))\n",
    "print(np.var(M))"
   ]
  },
  {
   "cell_type": "code",
   "execution_count": 20,
   "metadata": {},
   "outputs": [
    {
     "name": "stdout",
     "output_type": "stream",
     "text": [
      "0.0\n",
      "1.5\n",
      "3.0\n",
      "4.5\n",
      "6.0\n"
     ]
    }
   ],
   "source": [
    "M = np.arange(0,7)\n",
    "print(np.percentile(M,0))\n",
    "print(np.percentile(M,25))\n",
    "print(np.percentile(M,50))\n",
    "print(np.percentile(M,75))\n",
    "print(np.percentile(M,100))    #(array , %)"
   ]
  },
  {
   "cell_type": "code",
   "execution_count": 21,
   "metadata": {},
   "outputs": [
    {
     "data": {
      "text/plain": [
       "(True, False)"
      ]
     },
     "execution_count": 21,
     "metadata": {},
     "output_type": "execute_result"
    }
   ],
   "source": [
    "M = np.arange(0,6).reshape((2,3))\n",
    "np.any(M),np.all(M)   #判斷True"
   ]
  },
  {
   "cell_type": "markdown",
   "metadata": {},
   "source": [
    "#### <li>添加據維度參數 axis="
   ]
  },
  {
   "cell_type": "code",
   "execution_count": 22,
   "metadata": {},
   "outputs": [
    {
     "name": "stdout",
     "output_type": "stream",
     "text": [
      "[[0 1 2]\n",
      " [3 4 5]]\n"
     ]
    },
    {
     "data": {
      "text/plain": [
       "(array([ True,  True,  True]),\n",
       " array([False,  True,  True]),\n",
       " array([ True,  True]),\n",
       " array([False,  True]))"
      ]
     },
     "execution_count": 22,
     "metadata": {},
     "output_type": "execute_result"
    }
   ],
   "source": [
    "M = np.arange(0,6).reshape((2,3))\n",
    "print(M)\n",
    "np.any(M,axis=0),np.all(M,axis=0),np.any(M,axis=1),np.all(M,axis=1)   #判斷True"
   ]
  },
  {
   "cell_type": "markdown",
   "metadata": {},
   "source": [
    "---\n",
    "### Broadcasting\n",
    "---\n",
    "(不成size的自動簡易運算寫法)"
   ]
  },
  {
   "cell_type": "code",
   "execution_count": 23,
   "metadata": {},
   "outputs": [
    {
     "data": {
      "text/plain": [
       "array([0, 1, 2])"
      ]
     },
     "execution_count": 23,
     "metadata": {},
     "output_type": "execute_result"
    }
   ],
   "source": [
    "a = np.arange(3)\n",
    "a"
   ]
  },
  {
   "cell_type": "code",
   "execution_count": 24,
   "metadata": {},
   "outputs": [
    {
     "data": {
      "text/plain": [
       "array([1, 2, 3])"
      ]
     },
     "execution_count": 24,
     "metadata": {},
     "output_type": "execute_result"
    }
   ],
   "source": [
    "a+1"
   ]
  },
  {
   "cell_type": "code",
   "execution_count": 25,
   "metadata": {},
   "outputs": [
    {
     "data": {
      "text/plain": [
       "array([[1., 1., 1.],\n",
       "       [1., 1., 1.],\n",
       "       [1., 1., 1.]])"
      ]
     },
     "execution_count": 25,
     "metadata": {},
     "output_type": "execute_result"
    }
   ],
   "source": [
    "b = np.ones((3,3))\n",
    "b"
   ]
  },
  {
   "cell_type": "code",
   "execution_count": 26,
   "metadata": {},
   "outputs": [
    {
     "data": {
      "text/plain": [
       "array([[1., 2., 3.],\n",
       "       [1., 2., 3.],\n",
       "       [1., 2., 3.]])"
      ]
     },
     "execution_count": 26,
     "metadata": {},
     "output_type": "execute_result"
    }
   ],
   "source": [
    "a+b  #[0, 1, 2]會自動被拉長成 [[0, 1, 2],[0, 1, 2],[0, 1, 2]]  #1.墊維度 2.複製以拉長維度"
   ]
  },
  {
   "cell_type": "code",
   "execution_count": 27,
   "metadata": {},
   "outputs": [
    {
     "data": {
      "text/plain": [
       "array([[1., 2., 3.],\n",
       "       [1., 2., 3.],\n",
       "       [1., 2., 3.]])"
      ]
     },
     "execution_count": 27,
     "metadata": {},
     "output_type": "execute_result"
    }
   ],
   "source": [
    "b+a  #[0, 1, 2]會自動被拉長成 [[0, 1, 2],[0, 1, 2],[0, 1, 2]]  #1.墊維度 2.複製以拉長維度"
   ]
  },
  {
   "cell_type": "code",
   "execution_count": 28,
   "metadata": {},
   "outputs": [
    {
     "data": {
      "text/plain": [
       "(array([[0],\n",
       "        [1],\n",
       "        [2]]), array([0, 1, 2]))"
      ]
     },
     "execution_count": 28,
     "metadata": {},
     "output_type": "execute_result"
    }
   ],
   "source": [
    "a = np.arange(3).reshape((3,1))\n",
    "b = np.arange(3)\n",
    "a,b"
   ]
  },
  {
   "cell_type": "code",
   "execution_count": 29,
   "metadata": {},
   "outputs": [],
   "source": [
    "#雙邊  Broadcasting"
   ]
  },
  {
   "cell_type": "code",
   "execution_count": 30,
   "metadata": {},
   "outputs": [
    {
     "name": "stdout",
     "output_type": "stream",
     "text": [
      "(3, 1)\n",
      "(3,)\n"
     ]
    }
   ],
   "source": [
    "print(np.shape(a))\n",
    "print(np.shape(b))"
   ]
  },
  {
   "cell_type": "code",
   "execution_count": 31,
   "metadata": {},
   "outputs": [],
   "source": [
    "#(3,1) (3,)    [[0][1][2]]   [0,1,2]\n",
    "#(3,1) (1,3)   [[0][1][2]]   [[0,1,2]]\n",
    "#(3,3) (1,3)   [[0,0,0][1,1,1][2,2,2]]   [[0,1,2]]\n",
    "#(3,3) (3,3)   [[0,0,0][1,1,1][2,2,2]]   [[0,1,2],[0,1,2],[0,1,2]]"
   ]
  },
  {
   "cell_type": "code",
   "execution_count": 32,
   "metadata": {},
   "outputs": [
    {
     "data": {
      "text/plain": [
       "array([[0, 1, 2],\n",
       "       [1, 2, 3],\n",
       "       [2, 3, 4]])"
      ]
     },
     "execution_count": 32,
     "metadata": {},
     "output_type": "execute_result"
    }
   ],
   "source": [
    "a+b"
   ]
  },
  {
   "cell_type": "code",
   "execution_count": 33,
   "metadata": {},
   "outputs": [],
   "source": [
    "# Broadcasting實用範例 "
   ]
  },
  {
   "cell_type": "code",
   "execution_count": 34,
   "metadata": {},
   "outputs": [
    {
     "data": {
      "text/plain": [
       "array([[0.27811572, 0.78209183, 0.07620296],\n",
       "       [0.17935063, 0.61828858, 0.28385916],\n",
       "       [0.43665058, 0.27462323, 0.52809911],\n",
       "       [0.84840234, 0.68338346, 0.27243022],\n",
       "       [0.68475971, 0.66841663, 0.17730389],\n",
       "       [0.67951879, 0.92445756, 0.46748724],\n",
       "       [0.57188071, 0.6035705 , 0.89030591],\n",
       "       [0.13256243, 0.70584651, 0.41916348],\n",
       "       [0.37987509, 0.93671085, 0.88670351],\n",
       "       [0.04568738, 0.1556201 , 0.75758671]])"
      ]
     },
     "execution_count": 34,
     "metadata": {},
     "output_type": "execute_result"
    }
   ],
   "source": [
    "rand_X = np.random.random((10,3))\n",
    "rand_X"
   ]
  },
  {
   "cell_type": "code",
   "execution_count": 35,
   "metadata": {},
   "outputs": [
    {
     "data": {
      "text/plain": [
       "0.04568737511255683"
      ]
     },
     "execution_count": 35,
     "metadata": {},
     "output_type": "execute_result"
    }
   ],
   "source": [
    "min_X = np.min(rand_X)\n",
    "min_X"
   ]
  },
  {
   "cell_type": "code",
   "execution_count": 36,
   "metadata": {},
   "outputs": [
    {
     "data": {
      "text/plain": [
       "array([[0.23242835, 0.73640445, 0.03051558],\n",
       "       [0.13366325, 0.57260121, 0.23817178],\n",
       "       [0.3909632 , 0.22893586, 0.48241174],\n",
       "       [0.80271496, 0.63769608, 0.22674284],\n",
       "       [0.63907233, 0.62272926, 0.13161651],\n",
       "       [0.63383141, 0.87877019, 0.42179986],\n",
       "       [0.52619333, 0.55788312, 0.84461853],\n",
       "       [0.08687506, 0.66015914, 0.37347611],\n",
       "       [0.33418772, 0.89102348, 0.84101614],\n",
       "       [0.        , 0.10993273, 0.71189934]])"
      ]
     },
     "execution_count": 36,
     "metadata": {},
     "output_type": "execute_result"
    }
   ],
   "source": [
    "creat_X = rand_X-min_X\n",
    "creat_X"
   ]
  },
  {
   "cell_type": "markdown",
   "metadata": {},
   "source": [
    "---\n",
    "### Booling mask\n",
    "---\n"
   ]
  },
  {
   "cell_type": "code",
   "execution_count": 37,
   "metadata": {},
   "outputs": [
    {
     "data": {
      "text/plain": [
       "array([0, 1, 2, 3, 4, 5, 6, 7, 8, 9])"
      ]
     },
     "execution_count": 37,
     "metadata": {},
     "output_type": "execute_result"
    }
   ],
   "source": [
    "a = np.arange(10)\n",
    "a"
   ]
  },
  {
   "cell_type": "code",
   "execution_count": 38,
   "metadata": {},
   "outputs": [
    {
     "data": {
      "text/plain": [
       "array([1, 3, 5, 7, 9])"
      ]
     },
     "execution_count": 38,
     "metadata": {},
     "output_type": "execute_result"
    }
   ],
   "source": [
    "a[a%2!=0]"
   ]
  },
  {
   "cell_type": "code",
   "execution_count": 39,
   "metadata": {},
   "outputs": [
    {
     "data": {
      "text/plain": [
       "array([ 0, 11,  2, 11,  4, 11,  6, 11,  8, 11])"
      ]
     },
     "execution_count": 39,
     "metadata": {},
     "output_type": "execute_result"
    }
   ],
   "source": [
    "a[a%2!=0]=11\n",
    "a"
   ]
  },
  {
   "cell_type": "code",
   "execution_count": 40,
   "metadata": {},
   "outputs": [
    {
     "data": {
      "text/plain": [
       "array([[10, 10,  5,  5,  1,  1],\n",
       "       [10, 10,  5,  5,  1,  1]])"
      ]
     },
     "execution_count": 40,
     "metadata": {},
     "output_type": "execute_result"
    }
   ],
   "source": [
    "a1 = np.full((2,2),10)\n",
    "a2 = np.full((2,2),5)\n",
    "a3 = np.full((2,2),1)\n",
    "c = np.hstack([a1,a2,a3])\n",
    "c"
   ]
  },
  {
   "cell_type": "code",
   "execution_count": 41,
   "metadata": {},
   "outputs": [
    {
     "data": {
      "text/plain": [
       "array([[ True,  True,  True,  True, False, False],\n",
       "       [ True,  True,  True,  True, False, False]])"
      ]
     },
     "execution_count": 41,
     "metadata": {},
     "output_type": "execute_result"
    }
   ],
   "source": [
    "c>1"
   ]
  },
  {
   "cell_type": "markdown",
   "metadata": {},
   "source": [
    "可搭配<br>\n",
    "np.bitwise_and() = &<br>\n",
    "np.bitwise_or() = |<br>\n",
    "np.bitwise_xor() = ^<br>\n",
    "np.bitwise_not() = ~"
   ]
  },
  {
   "cell_type": "code",
   "execution_count": 42,
   "metadata": {},
   "outputs": [
    {
     "data": {
      "text/plain": [
       "array([[False, False,  True,  True, False, False],\n",
       "       [False, False,  True,  True, False, False]])"
      ]
     },
     "execution_count": 42,
     "metadata": {},
     "output_type": "execute_result"
    }
   ],
   "source": [
    "(c>1) & (c<10)"
   ]
  },
  {
   "cell_type": "code",
   "execution_count": 43,
   "metadata": {},
   "outputs": [
    {
     "data": {
      "text/plain": [
       "array([5, 5, 5, 5])"
      ]
     },
     "execution_count": 43,
     "metadata": {},
     "output_type": "execute_result"
    }
   ],
   "source": [
    "c[(c>1) & (c<10)]  #回傳為 1維 array"
   ]
  },
  {
   "cell_type": "code",
   "execution_count": 44,
   "metadata": {},
   "outputs": [
    {
     "data": {
      "text/plain": [
       "array([False, False])"
      ]
     },
     "execution_count": 44,
     "metadata": {},
     "output_type": "execute_result"
    }
   ],
   "source": [
    "np.all(c>5,axis=1)"
   ]
  },
  {
   "cell_type": "code",
   "execution_count": 45,
   "metadata": {},
   "outputs": [
    {
     "data": {
      "text/plain": [
       "array([ True,  True])"
      ]
     },
     "execution_count": 45,
     "metadata": {},
     "output_type": "execute_result"
    }
   ],
   "source": [
    "np.any(c>5,axis=1)"
   ]
  },
  {
   "cell_type": "markdown",
   "metadata": {},
   "source": [
    "西雅圖雨量實例"
   ]
  },
  {
   "cell_type": "code",
   "execution_count": 46,
   "metadata": {},
   "outputs": [],
   "source": [
    "import numpy as np\n",
    "import pandas as pd\n",
    "import requests\n",
    "import io"
   ]
  },
  {
   "cell_type": "code",
   "execution_count": 47,
   "metadata": {},
   "outputs": [
    {
     "name": "stdout",
     "output_type": "stream",
     "text": [
      "b'STATION,STATION_NAME,DATE,PRCP,SNWD,SNOW,TMAX,TMIN,AWND,WDF2,WDF5,WSF2,WSF5,WT01,WT05,WT02,WT03\\nGHCND:USW00024233,SEATTLE TACOMA INTERNATIONAL AIRPORT WA US,20140101,0,0,0,72,33,12,340,310,36,40,-9999,-9999,-9999,-9999\\nGHCND:USW00024233,SEATTLE TACOMA INTERNATIONAL AIRPORT WA US,20140102,41,0,0,106,61,32,190,200,94,116,-9999,-9999,-9999,-9999\\nGHCND:USW00024233,SEATTLE TACOMA INTERNATIONAL AIRPORT WA US,20140103,15,0,0,89,28,26,30,50,63,72,1,-9999,-9999,-9999\\nGHCND:USW00024233,SEATTLE TACOMA INTERNATIONAL AIRPORT WA US,20140104,0,0,0,78,6,27,40,40,45,58,1,-9999,-9999,-9999\\nGHCND:USW00024233,SEATTLE TACOMA INTERNATIONAL AIRPORT WA US,20140105,0,0,0,83,-5,37,10,10,67,76,-9999,-9999,-9999,-9999\\nGHCND:USW00024233,SEATTLE TACOMA INTERNATIONAL AIRPORT WA US,20140106,3,0,0,78,-5,26,210,210,112,125,1,-9999,-9999,-9999\\nGHCND:USW00024233,SEATTLE TACOMA INTERNATIONAL AIRPORT WA US,20140107,122,0,0,83,50,16,160,150,45,54,-9999,-9999,-9999,-9999\\nGHCND:USW00024233,SEATTLE TACOMA INTERNATIONAL AIRPORT WA US,20140108,97,0,0,100,72,46,180,180,107,143,1,-9999,-9999,-9999\\nGHCND:USW00024233,SEATTLE TACOMA INTERNATIONAL AIRPORT WA US,20140109,58,0,0,94,56,63,210,230,143,183,1,-9999,-9999,-9999\\nGHCND:USW00024233,SEATTLE TACOMA INTERNATIONAL AIRPORT WA US,20140110,43,0,0,128,83,70,200,200,134,183,-9999,-9999,-9999,-9999\\nGHCND:USW00024233,SEATTLE TACOMA INTERNATIONAL AIRPORT WA US,20140111,213,0,0,144,72,88,210,200,183,250,1,-9999,-9999,-9999\\nGHCND:USW00024233,SEATTLE TACOMA INTERNATIONAL AIRPORT WA US,20140112,15,0,0,111,56,81,200,210,134,174,1,-9999,-9999,-9999\\nGHCND:USW00024233,SEATTLE TACOMA INTERNATIONAL AIRPORT WA US,20140113,0,0,0,106,100,71,200,210,148,201,-9999,-9999,-9999,-9999\\nGHCND:USW00024233,SEATTLE TACOMA INTERNATIONAL AIRPORT WA US,20140114,0,0,0,111,72,13,180,180,58,72,-9999,-9999,-9999,-9999\\nGHCND:USW00024233,SEATTLE TACOMA INTERNATIONAL AIRPORT WA US,20140115,0,0,0,111,56,25,20,10,58,67,-9999,-9999,-9999,-9999\\nGHCND:USW00024233,SEATTLE TACOMA INTERNATIONAL AIRPORT WA US,20140116,0,0,0,67,44,27,30,30,63,67,-9999,-9999,-9999,-9999\\nGHCND:USW00024233,SEATTLE TACOMA INTERNATIONAL AIRPORT WA US,20140117,0,0,0,56,28,23,30,10,45,58,-9999,-9999,-9999,-9999\\nGHCND:USW00024233,SEATTLE TACOMA INTERNATIONAL AIRPORT WA US,20140118,0,0,0,94,6,22,120,120,63,67,-9999,-9999,-9999,-9999\\nGHCND:USW00024233,SEATTLE TACOMA INTERNATIONAL AIRPORT WA US,20140119,0,0,0,61,33,25,30,-9999,40,-9999,-9999,-9999,-9999,-9999\\nGHCND:USW00024233,SEATTLE TACOMA INTERNATIONAL AIRPORT WA US,20140120,0,0,0,100,28,22,20,10,54,63,-9999,-9999,-9999,-9999\\nGHCND:USW00024233,SEATTLE TACOMA INTERNATIONAL AIRPORT WA US,20140121,0,0,0,100,17,15,240,240,72,94,-9999,-9999,-9999,-9999\\nGHCND:USW00024233,SEATTLE TACOMA INTERNATIONAL AIRPORT WA US,20140122,5,0,0,94,56,26,40,40,72,98,-9999,-9999,-9999,-9999\\nGHCND:USW00024233,SEATTLE TACOMA INTERNATIONAL AIRPORT WA US,20140123,0,0,0,100,28,52,20,20,103,125,1,-9999,-9999,-9999\\nGHCND:USW00024233,SEATTLE TACOMA INTERNATIONAL AIRPORT WA US,20140124,0,0,0,128,11,19,10,10,45,58,-9999,-9999,-9999,-9999\\nGHCND:USW00024233,SEATTLE TACOMA INTERNATIONAL AIRPORT WA US,20140125,0,0,0,122,11,8,110,120,45,54,-9999,-9999,-9999,-9999\\nGHCND:USW00024233,SEATTLE TACOMA INTERNATIONAL AIRPORT WA US,20140126,0,0,0,83,6,13,270,270,36,40,-9999,-9999,-9999,-9999\\nGHCND:USW00024233,SEATTLE TACOMA INTERNATIONAL AIRPORT WA US,20140127,0,0,0,94,17,13,130,130,40,54,-9999,-9999,-9999,-9999\\nGHCND:USW00024233,SEATTLE TACOMA INTERNATIONAL AIRPORT WA US,20140128,89,0,0,111,61,16,40,40,40,54,1,-9999,-9999,-9999\\nGHCND:USW00024233,SEATTLE TACOMA INTERNATIONAL AIRPORT WA US,20140129,216,0,0,111,72,34,210,200,89,112,1,-9999,-9999,-9999\\nGHCND:USW00024233,SEATTLE TACOMA INTERNATIONAL AIRPORT WA US,20140130,0,0,0,83,61,64,210,210,103,139,-9999,-9999,-9999,-9999\\nGHCND:USW00024233,SEATTLE TACOMA INTERNATIONAL AIRPORT WA US,20140131,23,0,0,78,56,26,200,200,67,81,1,-9999,-9999,-9999\\nGHCND:USW00024233,SEATTLE TACOMA INTERNATIONAL AIRPORT WA US,20140201,20,0,0,78,28,8,30,280,40,54,-9999,-9999,-9999,-9999\\nGHCND:USW00024233,SEATTLE TACOMA INTERNATIONAL AIRPORT WA US,20140202,0,0,0,89,11,25,330,350,72,94,-9999,-9999,-9999,-9999\\nGHCND:USW00024233,SEATTLE TACOMA INTERNATIONAL AIRPORT WA US,20140203,0,0,0,50,0,43,350,340,98,130,-9999,-9999,-9999,-9999\\nGHCND:USW00024233,SEATTLE TACOMA INTERNATIONAL AIRPORT WA US,20140204,0,0,0,28,-21,47,80,90,89,112,-9999,-9999,-9999,-9999\\nGHCND:USW00024233,SEATTLE TACOMA INTERNATIONAL AIRPORT WA US,20140205,0,0,0,-5,-55,66,80,180,103,174,-9999,-9999,-9999,-9999\\nGHCND:USW00024233,SEATTLE TACOMA INTERNATIONAL AIRPORT WA US,20140206,0,0,0,-16,-60,45,70,80,81,103,-9999,-9999,-9999,-9999\\nGHCND:USW00024233,SEATTLE TACOMA INTERNATIONAL AIRPORT WA US,20140207,0,0,0,33,-49,42,10,10,98,112,-9999,-9999,-9999,-9999\\nGHCND:USW00024233,SEATTLE TACOMA INTERNATIONAL AIRPORT WA US,20140208,51,0,74,56,-5,46,110,110,116,148,1,-9999,-9999,-9999\\nGHCND:USW00024233,SEATTLE TACOMA INTERNATIONAL AIRPORT WA US,20140209,5,80,0,39,0,24,150,150,58,67,1,-9999,-9999,-9999\\nGHCND:USW00024233,SEATTLE TACOMA INTERNATIONAL AIRPORT WA US,20140210,183,0,0,100,22,47,210,200,103,134,1,-9999,-9999,-9999\\nGHCND:USW00024233,SEATTLE TACOMA INTERNATIONAL AIRPORT WA US,20140211,170,0,0,122,56,38,160,160,94,107,1,-9999,-9999,-9999\\nGHCND:USW00024233,SEATTLE TACOMA INTERNATIONAL AIRPORT WA US,20140212,46,0,0,122,72,64,220,210,157,219,1,-9999,-9999,-9999\\nGHCND:USW00024233,SEATTLE TACOMA INTERNATIONAL AIRPORT WA US,20140213,18,0,0,128,78,63,220,220,125,174,1,-9999,-9999,-9999\\nGHCND:USW00024233,SEATTLE TACOMA INTERNATIONAL AIRPORT WA US,20140214,94,0,0,117,61,64,200,220,112,139,1,-9999,-9999,-9999\\nGHCND:USW00024233,SEATTLE TACOMA INTERNATIONAL AIRPORT WA US,20140215,117,0,0,111,50,51,210,220,161,233,1,-9999,-9999,-9999\\nGHCND:USW00024233,SEATTLE TACOMA INTERNATIONAL AIRPORT WA US,20140216,264,0,0,94,39,79,230,220,130,183,1,-9999,-9999,-9999\\nGHCND:USW00024233,SEATTLE TACOMA INTERNATIONAL AIRPORT WA US,20140217,145,0,0,83,44,55,220,220,103,134,1,-9999,-9999,-9999\\nGHCND:USW00024233,SEATTLE TACOMA INTERNATIONAL AIRPORT WA US,20140218,152,0,0,89,50,62,220,220,143,183,1,-9999,-9999,-9999\\nGHCND:USW00024233,SEATTLE TACOMA INTERNATIONAL AIRPORT WA US,20140219,10,0,0,83,39,60,210,210,94,125,-9999,-9999,-9999,-9999\\nGHCND:USW00024233,SEATTLE TACOMA INTERNATIONAL AIRPORT WA US,20140220,30,0,0,100,56,69,220,210,134,170,1,-9999,-9999,-9999\\nGHCND:USW00024233,SEATTLE TACOMA INTERNATIONAL AIRPORT WA US,20140221,28,0,0,67,39,29,240,230,67,94,1,-9999,-9999,-9999\\nGHCND:USW00024233,SEATTLE TACOMA INTERNATIONAL AIRPORT WA US,20140222,25,0,0,56,28,31,160,130,58,76,1,-9999,-9999,-9999\\nGHCND:USW00024233,SEATTLE TACOMA INTERNATIONAL AIRPORT WA US,20140223,61,0,0,72,39,26,170,180,58,67,1,-9999,-9999,-9999\\nGHCND:USW00024233,SEATTLE TACOMA INTERNATIONAL AIRPORT WA US,20140224,130,0,0,67,33,32,10,10,54,63,1,-9999,-9999,-9999\\nGHCND:USW00024233,SEATTLE TACOMA INTERNATIONAL AIRPORT WA US,20140225,3,0,0,122,39,45,10,80,72,81,1,-9999,-9999,-9999\\nGHCND:USW00024233,SEATTLE TACOMA INTERNATIONAL AIRPORT WA US,20140226,0,0,0,139,56,25,30,90,54,67,-9999,-9999,-9999,-9999\\nGHCND:USW00024233,SEATTLE TACOMA INTERNATIONAL AIRPORT WA US,20140227,0,0,0,128,44,23,10,10,63,67,-9999,-9999,-9999,-9999\\nGHCND:USW00024233,SEATTLE TACOMA INTERNATIONAL AIRPORT WA US,20140228,0,0,0,144,44,59,20,10,107,134,-9999,-9999,-9999,-9999\\nGHCND:USW00024233,SEATTLE TACOMA INTERNATIONAL AIRPORT WA US,20140301,5,0,0,72,44,47,110,120,76,94,-9999,-9999,-9999,-9999\\nGHCND:USW00024233,SEATTLE TACOMA INTERNATIONAL AIRPORT WA US,20140302,191,0,0,111,28,57,210,180,107,139,1,-9999,-9999,-9999\\nGHCND:USW00024233,SEATTLE TACOMA INTERNATIONAL AIRPORT WA US,20140303,107,0,0,144,89,51,200,240,89,134,1,-9999,-9999,-9999\\nGHCND:USW00024233,SEATTLE TACOMA INTERNATIONAL AIRPORT WA US,20140304,165,0,0,139,78,39,200,210,89,116,1,-9999,-9999,-9999\\nGHCND:USW00024233,SEATTLE TACOMA INTERNATIONAL AIRPORT WA US,20140305,467,0,0,156,106,39,190,200,112,157,1,-9999,-9999,-9999\\nGHCND:USW00024233,SEATTLE TACOMA INTERNATIONAL AIRPORT WA US,20140306,30,0,0,133,100,62,220,220,125,174,1,-9999,-9999,-9999\\nGHCND:USW00024233,SEATTLE TACOMA INTERNATIONAL AIRPORT WA US,20140307,0,0,0,156,89,42,220,210,94,116,-9999,-9999,-9999,-9999\\nGHCND:USW00024233,SEATTLE TACOMA INTERNATIONAL AIRPORT WA US,20140308,323,0,0,128,67,27,200,210,76,103,1,-9999,-9999,-9999\\nGHCND:USW00024233,SEATTLE TACOMA INTERNATIONAL AIRPORT WA US,20140309,43,0,0,150,94,43,210,220,76,112,1,-9999,-9999,-9999\\nGHCND:USW00024233,SEATTLE TACOMA INTERNATIONAL AIRPORT WA US,20140310,188,0,0,122,61,22,210,200,54,67,1,-9999,-9999,-9999\\nGHCND:USW00024233,SEATTLE TACOMA INTERNATIONAL AIRPORT WA US,20140311,0,0,0,144,44,23,20,30,54,63,1,-9999,-9999,-9999\\nGHCND:USW00024233,SEATTLE TACOMA INTERNATIONAL AIRPORT WA US,20140312,0,0,0,161,33,19,10,20,67,81,1,-9999,-9999,-9999\\nGHCND:USW00024233,SEATTLE TACOMA INTERNATIONAL AIRPORT WA US,20140313,5,0,0,139,50,25,230,220,58,76,1,-9999,-9999,-9999\\nGHCND:USW00024233,SEATTLE TACOMA INTERNATIONAL AIRPORT WA US,20140314,69,0,0,144,83,61,220,200,107,143,1,-9999,-9999,-9999\\nGHCND:USW00024233,SEATTLE TACOMA INTERNATIONAL AIRPORT WA US,20140315,81,0,0,167,44,30,200,210,76,103,1,-9999,-9999,-9999\\nGHCND:USW00024233,SEATTLE TACOMA INTERNATIONAL AIRPORT WA US,20140316,277,0,0,106,44,38,230,240,76,103,1,-9999,-9999,-9999\\nGHCND:USW00024233,SEATTLE TACOMA INTERNATIONAL AIRPORT WA US,20140317,3,0,0,100,28,32,190,90,89,143,1,-9999,-9999,-9999\\nGHCND:USW00024233,SEATTLE TACOMA INTERNATIONAL AIRPORT WA US,20140318,0,0,0,100,33,16,140,100,45,58,-9999,-9999,-9999,-9999\\nGHCND:USW00024233,SEATTLE TACOMA INTERNATIONAL AIRPORT WA US,20140319,5,0,0,111,33,51,200,200,107,143,-9999,-9999,-9999,-9999\\nGHCND:USW00024233,SEATTLE TACOMA INTERNATIONAL AIRPORT WA US,20140320,0,0,0,111,17,30,30,40,72,81,-9999,-9999,-9999,-9999\\nGHCND:USW00024233,SEATTLE TACOMA INTERNATIONAL AIRPORT WA US,20140321,0,0,0,106,28,38,340,340,67,94,-9999,-9999,-9999,-9999\\nGHCND:USW00024233,SEATTLE TACOMA INTERNATIONAL AIRPORT WA US,20140322,0,0,0,111,11,18,330,120,40,58,-9999,-9999,-9999,-9999\\nGHCND:USW00024233,SEATTLE TACOMA INTERNATIONAL AIRPORT WA US,20140323,0,0,0,128,44,33,30,290,49,72,-9999,-9999,-9999,-9999\\nGHCND:USW00024233,SEATTLE TACOMA INTERNATIONAL AIRPORT WA US,20140324,0,0,0,189,28,22,160,170,40,45,-9999,-9999,-9999,-9999\\nGHCND:USW00024233,SEATTLE TACOMA INTERNATIONAL AIRPORT WA US,20140325,41,0,0,139,67,44,200,190,134,192,1,-9999,-9999,-9999\\nGHCND:USW00024233,SEATTLE TACOMA INTERNATIONAL AIRPORT WA US,20140326,36,0,0,111,56,24,190,210,54,76,1,-9999,-9999,-9999\\nGHCND:USW00024233,SEATTLE TACOMA INTERNATIONAL AIRPORT WA US,20140327,3,0,0,122,67,28,320,330,103,134,1,-9999,-9999,-9999\\nGHCND:USW00024233,SEATTLE TACOMA INTERNATIONAL AIRPORT WA US,20140328,221,0,0,117,72,39,240,210,89,107,1,-9999,-9999,-9999\\nGHCND:USW00024233,SEATTLE TACOMA INTERNATIONAL AIRPORT WA US,20140329,140,0,0,117,72,51,190,190,94,139,1,-9999,-9999,-9999\\nGHCND:USW00024233,SEATTLE TACOMA INTERNATIONAL AIRPORT WA US,20140330,0,0,0,111,50,51,190,180,103,125,-9999,-9999,-9999,-9999\\nGHCND:USW00024233,SEATTLE TACOMA INTERNATIONAL AIRPORT WA US,20140331,0,0,0,156,22,38,360,220,72,94,-9999,-9999,-9999,-9999\\nGHCND:USW00024233,SEATTLE TACOMA INTERNATIONAL AIRPORT WA US,20140401,0,0,0,144,67,28,20,10,58,67,-9999,-9999,-9999,-9999\\nGHCND:USW00024233,SEATTLE TACOMA INTERNATIONAL AIRPORT WA US,20140402,0,0,0,144,56,42,210,200,72,103,-9999,-9999,-9999,-9999\\nGHCND:USW00024233,SEATTLE TACOMA INTERNATIONAL AIRPORT WA US,20140403,25,0,0,133,61,39,220,220,89,116,-9999,-9999,-9999,-9999\\nGHCND:USW00024233,SEATTLE TACOMA INTERNATIONAL AIRPORT WA US,20140404,0,0,0,128,61,47,210,220,89,107,-9999,-9999,-9999,-9999\\nGHCND:USW00024233,SEATTLE TACOMA INTERNATIONAL AIRPORT WA US,20140405,46,0,0,117,78,43,210,230,98,130,1,-9999,-9999,-9999\\nGHCND:USW00024233,SEATTLE TACOMA INTERNATIONAL AIRPORT WA US,20140406,0,0,0,139,83,26,220,220,72,107,-9999,-9999,-9999,-9999\\nGHCND:USW00024233,SEATTLE TACOMA INTERNATIONAL AIRPORT WA US,20140407,0,0,0,211,94,25,200,320,63,98,-9999,-9999,-9999,-9999\\nGHCND:USW00024233,SEATTLE TACOMA INTERNATIONAL AIRPORT WA US,20140408,46,0,0,156,83,42,40,40,81,98,1,-9999,-9999,-9999\\nGHCND:USW00024233,SEATTLE TACOMA INTERNATIONAL AIRPORT WA US,20140409,0,0,0,144,67,29,30,30,67,81,-9999,-9999,-9999,-9999\\nGHCND:USW00024233,SEATTLE TACOMA INTERNATIONAL AIRPORT WA US,20140410,0,0,0,150,67,36,30,30,63,72,-9999,-9999,-9999,-9999\\nGHCND:USW00024233,SEATTLE TACOMA INTERNATIONAL AIRPORT WA US,20140411,0,0,0,172,50,28,30,-9999,72,-9999,-9999,-9999,-9999,-9999\\nGHCND:USW00024233,SEATTLE TACOMA INTERNATIONAL AIRPORT WA US,20140412,0,0,0,161,78,44,360,360,67,89,-9999,-9999,-9999,-9999\\nGHCND:USW00024233,SEATTLE TACOMA INTERNATIONAL AIRPORT WA US,20140413,0,0,0,206,56,31,300,290,67,81,-9999,-9999,-9999,-9999\\nGHCND:USW00024233,SEATTLE TACOMA INTERNATIONAL AIRPORT WA US,20140414,0,0,0,200,56,26,220,280,76,116,-9999,-9999,-9999,-9999\\nGHCND:USW00024233,SEATTLE TACOMA INTERNATIONAL AIRPORT WA US,20140415,5,0,0,144,78,40,210,220,76,98,-9999,-9999,-9999,-9999\\nGHCND:USW00024233,SEATTLE TACOMA INTERNATIONAL AIRPORT WA US,20140416,109,0,0,111,89,46,190,210,72,94,1,-9999,-9999,-9999\\nGHCND:USW00024233,SEATTLE TACOMA INTERNATIONAL AIRPORT WA US,20140417,185,0,0,117,72,47,220,230,103,130,1,-9999,-9999,-9999\\nGHCND:USW00024233,SEATTLE TACOMA INTERNATIONAL AIRPORT WA US,20140418,0,0,0,144,56,38,210,310,76,170,-9999,-9999,-9999,-9999\\nGHCND:USW00024233,SEATTLE TACOMA INTERNATIONAL AIRPORT WA US,20140419,137,0,0,117,56,47,210,230,103,139,1,-9999,-9999,-9999\\nGHCND:USW00024233,SEATTLE TACOMA INTERNATIONAL AIRPORT WA US,20140420,0,0,0,156,56,27,200,210,94,112,-9999,-9999,-9999,-9999\\nGHCND:USW00024233,SEATTLE TACOMA INTERNATIONAL AIRPORT WA US,20140421,51,0,0,172,78,25,340,-9999,63,-9999,1,-9999,-9999,-9999\\nGHCND:USW00024233,SEATTLE TACOMA INTERNATIONAL AIRPORT WA US,20140422,142,0,0,122,50,42,260,250,98,130,1,-9999,-9999,-9999\\nGHCND:USW00024233,SEATTLE TACOMA INTERNATIONAL AIRPORT WA US,20140423,89,0,0,117,61,50,280,320,81,143,1,-9999,-9999,-9999\\nGHCND:USW00024233,SEATTLE TACOMA INTERNATIONAL AIRPORT WA US,20140424,124,0,0,139,61,53,200,210,116,161,1,-9999,-9999,-9999\\nGHCND:USW00024233,SEATTLE TACOMA INTERNATIONAL AIRPORT WA US,20140425,0,0,0,144,56,23,320,290,63,76,-9999,-9999,-9999,-9999\\nGHCND:USW00024233,SEATTLE TACOMA INTERNATIONAL AIRPORT WA US,20140426,33,0,0,150,56,39,190,210,63,89,-9999,-9999,-9999,-9999\\nGHCND:USW00024233,SEATTLE TACOMA INTERNATIONAL AIRPORT WA US,20140427,69,0,0,111,61,58,200,200,98,112,1,-9999,-9999,-9999\\nGHCND:USW00024233,SEATTLE TACOMA INTERNATIONAL AIRPORT WA US,20140428,0,0,0,161,44,26,280,280,58,72,-9999,-9999,-9999,-9999\\nGHCND:USW00024233,SEATTLE TACOMA INTERNATIONAL AIRPORT WA US,20140429,0,0,0,250,94,23,100,90,67,89,-9999,-9999,-9999,-9999\\nGHCND:USW00024233,SEATTLE TACOMA INTERNATIONAL AIRPORT WA US,20140430,0,0,0,278,94,39,350,10,76,89,-9999,-9999,-9999,-9999\\nGHCND:USW00024233,SEATTLE TACOMA INTERNATIONAL AIRPORT WA US,20140501,0,0,0,294,111,30,240,240,58,81,-9999,-9999,-9999,-9999\\nGHCND:USW00024233,SEATTLE TACOMA INTERNATIONAL AIRPORT WA US,20140502,0,0,0,183,106,47,220,230,81,103,-9999,-9999,-9999,-9999\\nGHCND:USW00024233,SEATTLE TACOMA INTERNATIONAL AIRPORT WA US,20140503,333,0,0,150,89,34,210,200,98,130,1,-9999,-9999,-9999\\nGHCND:USW00024233,SEATTLE TACOMA INTERNATIONAL AIRPORT WA US,20140504,160,0,0,144,89,42,190,200,89,112,1,-9999,-9999,-9999\\nGHCND:USW00024233,SEATTLE TACOMA INTERNATIONAL AIRPORT WA US,20140505,51,0,0,156,94,38,220,230,72,98,1,-9999,-9999,-9999\\nGHCND:USW00024233,SEATTLE TACOMA INTERNATIONAL AIRPORT WA US,20140506,0,0,0,167,83,26,220,250,58,72,-9999,-9999,-9999,-9999\\nGHCND:USW00024233,SEATTLE TACOMA INTERNATIONAL AIRPORT WA US,20140507,0,0,0,183,72,17,240,250,58,72,-9999,-9999,-9999,-9999\\nGHCND:USW00024233,SEATTLE TACOMA INTERNATIONAL AIRPORT WA US,20140508,137,0,0,139,94,34,200,200,89,116,1,-9999,-9999,-9999\\nGHCND:USW00024233,SEATTLE TACOMA INTERNATIONAL AIRPORT WA US,20140509,20,0,0,133,72,56,210,220,98,130,-9999,-9999,-9999,-9999\\nGHCND:USW00024233,SEATTLE TACOMA INTERNATIONAL AIRPORT WA US,20140510,5,0,0,156,72,21,270,240,40,81,1,-9999,-9999,-9999\\nGHCND:USW00024233,SEATTLE TACOMA INTERNATIONAL AIRPORT WA US,20140511,0,0,0,189,83,17,200,200,116,116,-9999,-9999,-9999,-9999\\nGHCND:USW00024233,SEATTLE TACOMA INTERNATIONAL AIRPORT WA US,20140512,0,0,0,244,94,27,320,310,54,67,-9999,-9999,-9999,-9999\\nGHCND:USW00024233,SEATTLE TACOMA INTERNATIONAL AIRPORT WA US,20140513,0,0,0,267,128,38,350,350,67,81,-9999,-9999,-9999,-9999\\nGHCND:USW00024233,SEATTLE TACOMA INTERNATIONAL AIRPORT WA US,20140514,0,0,0,278,133,33,350,30,67,116,-9999,-9999,-9999,-9999\\nGHCND:USW00024233,SEATTLE TACOMA INTERNATIONAL AIRPORT WA US,20140515,0,0,0,267,128,30,240,240,89,107,-9999,-9999,-9999,-9999\\nGHCND:USW00024233,SEATTLE TACOMA INTERNATIONAL AIRPORT WA US,20140516,0,0,0,200,117,41,220,200,72,98,-9999,-9999,-9999,-9999\\nGHCND:USW00024233,SEATTLE TACOMA INTERNATIONAL AIRPORT WA US,20140517,0,0,0,200,117,32,190,260,63,89,-9999,-9999,-9999,-9999\\nGHCND:USW00024233,SEATTLE TACOMA INTERNATIONAL AIRPORT WA US,20140518,0,0,0,200,106,32,210,210,112,148,-9999,-9999,-9999,-9999\\nGHCND:USW00024233,SEATTLE TACOMA INTERNATIONAL AIRPORT WA US,20140519,0,0,0,211,100,22,340,350,63,72,-9999,-9999,-9999,-9999\\nGHCND:USW00024233,SEATTLE TACOMA INTERNATIONAL AIRPORT WA US,20140520,0,0,0,222,100,27,300,280,58,67,-9999,-9999,-9999,-9999\\nGHCND:USW00024233,SEATTLE TACOMA INTERNATIONAL AIRPORT WA US,20140521,0,0,0,200,106,17,250,250,40,54,-9999,-9999,-9999,-9999\\nGHCND:USW00024233,SEATTLE TACOMA INTERNATIONAL AIRPORT WA US,20140522,0,0,0,244,117,25,300,300,67,81,-9999,-9999,-9999,-9999\\nGHCND:USW00024233,SEATTLE TACOMA INTERNATIONAL AIRPORT WA US,20140523,38,0,0,200,128,40,220,110,81,130,1,-9999,-9999,-9999\\nGHCND:USW00024233,SEATTLE TACOMA INTERNATIONAL AIRPORT WA US,20140524,0,0,0,183,111,24,230,220,54,67,-9999,-9999,-9999,-9999\\nGHCND:USW00024233,SEATTLE TACOMA INTERNATIONAL AIRPORT WA US,20140525,56,0,0,150,106,14,230,320,45,107,1,-9999,-9999,-9999\\nGHCND:USW00024233,SEATTLE TACOMA INTERNATIONAL AIRPORT WA US,20140526,0,0,0,183,111,45,210,210,94,112,-9999,-9999,-9999,-9999\\nGHCND:USW00024233,SEATTLE TACOMA INTERNATIONAL AIRPORT WA US,20140527,0,0,0,200,100,25,280,280,58,81,-9999,-9999,-9999,-9999\\nGHCND:USW00024233,SEATTLE TACOMA INTERNATIONAL AIRPORT WA US,20140528,0,0,0,189,100,34,210,200,76,98,-9999,-9999,-9999,-9999\\nGHCND:USW00024233,SEATTLE TACOMA INTERNATIONAL AIRPORT WA US,20140529,0,0,0,189,111,43,180,170,81,107,-9999,-9999,-9999,-9999\\nGHCND:USW00024233,SEATTLE TACOMA INTERNATIONAL AIRPORT WA US,20140530,0,0,0,206,89,45,340,350,89,103,-9999,-9999,-9999,-9999\\nGHCND:USW00024233,SEATTLE TACOMA INTERNATIONAL AIRPORT WA US,20140531,0,0,0,233,100,22,200,210,54,72,-9999,-9999,-9999,-9999\\nGHCND:USW00024233,SEATTLE TACOMA INTERNATIONAL AIRPORT WA US,20140601,0,0,0,222,106,23,250,220,45,67,-9999,-9999,-9999,-9999\\nGHCND:USW00024233,SEATTLE TACOMA INTERNATIONAL AIRPORT WA US,20140602,0,0,0,233,111,24,210,200,58,72,-9999,-9999,-9999,-9999\\nGHCND:USW00024233,SEATTLE TACOMA INTERNATIONAL AIRPORT WA US,20140603,0,0,0,183,111,32,220,250,63,72,-9999,-9999,-9999,-9999\\nGHCND:USW00024233,SEATTLE TACOMA INTERNATIONAL AIRPORT WA US,20140604,0,0,0,194,100,26,260,260,54,72,-9999,-9999,-9999,-9999\\nGHCND:USW00024233,SEATTLE TACOMA INTERNATIONAL AIRPORT WA US,20140605,0,0,0,222,100,24,350,250,45,89,-9999,-9999,-9999,-9999\\nGHCND:USW00024233,SEATTLE TACOMA INTERNATIONAL AIRPORT WA US,20140606,0,0,0,250,106,32,40,40,94,107,-9999,-9999,-9999,-9999\\nGHCND:USW00024233,SEATTLE TACOMA INTERNATIONAL AIRPORT WA US,20140607,0,0,0,244,133,31,300,290,67,89,-9999,-9999,-9999,-9999\\nGHCND:USW00024233,SEATTLE TACOMA INTERNATIONAL AIRPORT WA US,20140608,0,0,0,233,122,21,50,40,58,67,-9999,-9999,-9999,-9999\\nGHCND:USW00024233,SEATTLE TACOMA INTERNATIONAL AIRPORT WA US,20140609,0,0,0,211,133,36,30,30,72,89,-9999,-9999,-9999,-9999\\nGHCND:USW00024233,SEATTLE TACOMA INTERNATIONAL AIRPORT WA US,20140610,0,0,0,200,122,29,40,40,67,81,-9999,-9999,-9999,-9999\\nGHCND:USW00024233,SEATTLE TACOMA INTERNATIONAL AIRPORT WA US,20140611,0,0,0,239,111,27,290,300,63,72,-9999,-9999,-9999,-9999\\nGHCND:USW00024233,SEATTLE TACOMA INTERNATIONAL AIRPORT WA US,20140612,18,0,0,217,122,40,240,230,103,139,-9999,-9999,-9999,-9999\\nGHCND:USW00024233,SEATTLE TACOMA INTERNATIONAL AIRPORT WA US,20140613,64,0,0,156,111,50,220,220,98,139,1,-9999,-9999,-9999\\nGHCND:USW00024233,SEATTLE TACOMA INTERNATIONAL AIRPORT WA US,20140614,0,0,0,178,117,32,190,190,76,98,-9999,-9999,-9999,-9999\\nGHCND:USW00024233,SEATTLE TACOMA INTERNATIONAL AIRPORT WA US,20140615,5,0,0,183,100,36,50,50,98,112,1,-9999,-9999,-9999\\nGHCND:USW00024233,SEATTLE TACOMA INTERNATIONAL AIRPORT WA US,20140616,36,0,-9999,178,89,24,210,210,58,72,1,-9999,-9999,-9999\\nGHCND:USW00024233,SEATTLE TACOMA INTERNATIONAL AIRPORT WA US,20140617,13,0,0,178,100,30,230,210,54,72,1,-9999,-9999,-9999\\nGHCND:USW00024233,SEATTLE TACOMA INTERNATIONAL AIRPORT WA US,20140618,0,0,0,189,111,27,210,180,54,81,-9999,-9999,-9999,-9999\\nGHCND:USW00024233,SEATTLE TACOMA INTERNATIONAL AIRPORT WA US,20140619,8,0,0,256,117,37,240,230,81,112,-9999,-9999,-9999,-9999\\nGHCND:USW00024233,SEATTLE TACOMA INTERNATIONAL AIRPORT WA US,20140620,3,0,0,200,100,34,30,230,76,103,-9999,-9999,-9999,-9999\\nGHCND:USW00024233,SEATTLE TACOMA INTERNATIONAL AIRPORT WA US,20140621,0,0,0,222,106,36,20,300,67,89,-9999,-9999,-9999,-9999\\nGHCND:USW00024233,SEATTLE TACOMA INTERNATIONAL AIRPORT WA US,20140622,0,0,0,250,111,27,20,360,58,72,-9999,-9999,-9999,-9999\\nGHCND:USW00024233,SEATTLE TACOMA INTERNATIONAL AIRPORT WA US,20140623,0,0,0,250,133,25,250,230,63,81,-9999,-9999,-9999,-9999\\nGHCND:USW00024233,SEATTLE TACOMA INTERNATIONAL AIRPORT WA US,20140624,0,0,0,244,144,25,190,260,58,94,-9999,-9999,-9999,-9999\\nGHCND:USW00024233,SEATTLE TACOMA INTERNATIONAL AIRPORT WA US,20140625,0,0,0,261,139,24,360,280,63,76,-9999,-9999,-9999,-9999\\nGHCND:USW00024233,SEATTLE TACOMA INTERNATIONAL AIRPORT WA US,20140626,0,0,0,211,144,41,230,240,76,98,-9999,-9999,-9999,-9999\\nGHCND:USW00024233,SEATTLE TACOMA INTERNATIONAL AIRPORT WA US,20140627,18,0,0,211,139,45,240,230,98,134,1,-9999,-9999,-9999\\nGHCND:USW00024233,SEATTLE TACOMA INTERNATIONAL AIRPORT WA US,20140628,23,0,0,200,133,43,220,230,76,98,1,-9999,-9999,-9999\\nGHCND:USW00024233,SEATTLE TACOMA INTERNATIONAL AIRPORT WA US,20140629,0,0,0,206,128,32,210,200,72,94,-9999,-9999,-9999,-9999\\nGHCND:USW00024233,SEATTLE TACOMA INTERNATIONAL AIRPORT WA US,20140630,0,0,0,256,128,44,330,340,67,98,-9999,-9999,-9999,-9999\\nGHCND:USW00024233,SEATTLE TACOMA INTERNATIONAL AIRPORT WA US,20140701,0,0,0,344,156,35,350,10,67,81,-9999,-9999,-9999,-9999\\nGHCND:USW00024233,SEATTLE TACOMA INTERNATIONAL AIRPORT WA US,20140702,0,0,0,272,144,36,210,230,72,94,-9999,-9999,-9999,-9999\\nGHCND:USW00024233,SEATTLE TACOMA INTERNATIONAL AIRPORT WA US,20140703,0,0,0,217,139,31,230,330,54,72,-9999,-9999,-9999,-9999\\nGHCND:USW00024233,SEATTLE TACOMA INTERNATIONAL AIRPORT WA US,20140704,0,0,0,239,139,36,340,-9999,63,-9999,-9999,-9999,-9999,-9999\\nGHCND:USW00024233,SEATTLE TACOMA INTERNATIONAL AIRPORT WA US,20140705,0,0,0,244,133,22,200,230,63,81,1,-9999,-9999,-9999\\nGHCND:USW00024233,SEATTLE TACOMA INTERNATIONAL AIRPORT WA US,20140706,0,0,0,289,150,30,340,330,76,94,-9999,-9999,-9999,-9999\\nGHCND:USW00024233,SEATTLE TACOMA INTERNATIONAL AIRPORT WA US,20140707,0,0,0,272,178,41,340,340,67,148,1,-9999,-9999,-9999\\nGHCND:USW00024233,SEATTLE TACOMA INTERNATIONAL AIRPORT WA US,20140708,0,0,0,300,156,35,350,350,72,94,-9999,-9999,-9999,-9999\\nGHCND:USW00024233,SEATTLE TACOMA INTERNATIONAL AIRPORT WA US,20140709,0,0,0,267,139,23,250,320,67,112,-9999,-9999,-9999,-9999\\nGHCND:USW00024233,SEATTLE TACOMA INTERNATIONAL AIRPORT WA US,20140710,0,0,0,289,128,22,10,270,40,72,1,-9999,-9999,-9999\\nGHCND:USW00024233,SEATTLE TACOMA INTERNATIONAL AIRPORT WA US,20140711,0,0,0,311,150,22,35,35,49,67,-9999,-9999,-9999,-9999\\nGHCND:USW00024233,SEATTLE TACOMA INTERNATIONAL AIRPORT WA US,20140712,0,0,0,322,167,22,20,20,54,63,-9999,-9999,-9999,-9999\\nGHCND:USW00024233,SEATTLE TACOMA INTERNATIONAL AIRPORT WA US,20140713,0,0,0,294,150,26,360,350,76,94,-9999,-9999,-9999,1\\nGHCND:USW00024233,SEATTLE TACOMA INTERNATIONAL AIRPORT WA US,20140714,0,0,0,278,150,28,250,250,45,49,-9999,-9999,-9999,-9999\\nGHCND:USW00024233,SEATTLE TACOMA INTERNATIONAL AIRPORT WA US,20140715,0,0,0,311,139,23,360,210,67,107,-9999,-9999,-9999,-9999\\nGHCND:USW00024233,SEATTLE TACOMA INTERNATIONAL AIRPORT WA US,20140716,0,0,0,311,144,24,200,100,58,94,-9999,-9999,-9999,-9999\\nGHCND:USW00024233,SEATTLE TACOMA INTERNATIONAL AIRPORT WA US,20140717,0,0,0,267,139,37,280,170,81,116,-9999,-9999,-9999,-9999\\nGHCND:USW00024233,SEATTLE TACOMA INTERNATIONAL AIRPORT WA US,20140718,0,0,0,239,117,28,260,240,63,81,-9999,-9999,-9999,-9999\\nGHCND:USW00024233,SEATTLE TACOMA INTERNATIONAL AIRPORT WA US,20140719,0,0,0,256,150,54,220,220,125,161,1,-9999,-9999,-9999\\nGHCND:USW00024233,SEATTLE TACOMA INTERNATIONAL AIRPORT WA US,20140720,0,0,0,194,144,28,320,300,89,116,-9999,-9999,-9999,-9999\\nGHCND:USW00024233,SEATTLE TACOMA INTERNATIONAL AIRPORT WA US,20140721,0,0,0,239,133,22,260,220,54,67,-9999,-9999,-9999,-9999\\nGHCND:USW00024233,SEATTLE TACOMA INTERNATIONAL AIRPORT WA US,20140722,3,0,0,211,133,11,200,220,40,72,1,-9999,-9999,-9999\\nGHCND:USW00024233,SEATTLE TACOMA INTERNATIONAL AIRPORT WA US,20140723,193,0,0,189,133,33,150,210,63,112,-9999,-9999,-9999,-9999\\nGHCND:USW00024233,SEATTLE TACOMA INTERNATIONAL AIRPORT WA US,20140724,0,0,0,206,128,47,210,210,89,112,-9999,-9999,-9999,-9999\\nGHCND:USW00024233,SEATTLE TACOMA INTERNATIONAL AIRPORT WA US,20140725,0,0,0,228,122,27,20,250,58,76,-9999,-9999,-9999,-9999\\nGHCND:USW00024233,SEATTLE TACOMA INTERNATIONAL AIRPORT WA US,20140726,0,0,0,261,133,36,20,20,72,76,-9999,-9999,-9999,-9999\\nGHCND:USW00024233,SEATTLE TACOMA INTERNATIONAL AIRPORT WA US,20140727,0,0,0,283,150,41,350,360,67,81,-9999,-9999,-9999,-9999\\nGHCND:USW00024233,SEATTLE TACOMA INTERNATIONAL AIRPORT WA US,20140728,0,0,0,306,150,37,40,360,67,98,-9999,-9999,-9999,-9999\\nGHCND:USW00024233,SEATTLE TACOMA INTERNATIONAL AIRPORT WA US,20140729,0,0,0,300,156,28,10,350,76,94,-9999,-9999,-9999,-9999\\nGHCND:USW00024233,SEATTLE TACOMA INTERNATIONAL AIRPORT WA US,20140730,0,0,0,294,144,34,40,350,76,103,-9999,-9999,-9999,-9999\\nGHCND:USW00024233,SEATTLE TACOMA INTERNATIONAL AIRPORT WA US,20140731,0,0,0,306,178,41,40,350,67,125,-9999,-9999,-9999,-9999\\nGHCND:USW00024233,SEATTLE TACOMA INTERNATIONAL AIRPORT WA US,20140801,0,0,0,289,150,33,30,360,98,143,-9999,-9999,-9999,-9999\\nGHCND:USW00024233,SEATTLE TACOMA INTERNATIONAL AIRPORT WA US,20140802,5,0,0,294,156,17,20,-9999,45,-9999,-9999,-9999,-9999,-9999\\nGHCND:USW00024233,SEATTLE TACOMA INTERNATIONAL AIRPORT WA US,20140803,0,0,0,317,144,26,360,330,54,72,-9999,-9999,-9999,-9999\\nGHCND:USW00024233,SEATTLE TACOMA INTERNATIONAL AIRPORT WA US,20140804,0,0,0,328,161,26,350,10,58,67,-9999,-9999,-9999,-9999\\nGHCND:USW00024233,SEATTLE TACOMA INTERNATIONAL AIRPORT WA US,20140805,0,0,0,250,139,27,240,210,58,72,-9999,-9999,-9999,-9999\\nGHCND:USW00024233,SEATTLE TACOMA INTERNATIONAL AIRPORT WA US,20140806,0,0,0,261,150,22,250,320,45,54,1,-9999,-9999,-9999\\nGHCND:USW00024233,SEATTLE TACOMA INTERNATIONAL AIRPORT WA US,20140807,0,0,0,256,133,24,190,210,40,63,1,-9999,-9999,-9999\\nGHCND:USW00024233,SEATTLE TACOMA INTERNATIONAL AIRPORT WA US,20140808,0,0,0,256,133,29,40,230,76,98,-9999,-9999,-9999,-9999\\nGHCND:USW00024233,SEATTLE TACOMA INTERNATIONAL AIRPORT WA US,20140809,0,0,0,272,156,41,40,340,72,94,-9999,-9999,-9999,-9999\\nGHCND:USW00024233,SEATTLE TACOMA INTERNATIONAL AIRPORT WA US,20140810,0,0,0,306,139,34,360,350,63,94,-9999,-9999,-9999,-9999\\nGHCND:USW00024233,SEATTLE TACOMA INTERNATIONAL AIRPORT WA US,20140811,5,0,0,356,178,26,70,70,81,98,-9999,-9999,-9999,1\\nGHCND:USW00024233,SEATTLE TACOMA INTERNATIONAL AIRPORT WA US,20140812,127,0,0,272,172,31,60,350,81,148,1,-9999,-9999,-9999\\nGHCND:USW00024233,SEATTLE TACOMA INTERNATIONAL AIRPORT WA US,20140813,216,0,0,233,150,27,200,200,63,63,1,-9999,-9999,-9999\\nGHCND:USW00024233,SEATTLE TACOMA INTERNATIONAL AIRPORT WA US,20140814,0,0,0,211,172,6,330,-9999,31,-9999,-9999,-9999,-9999,-9999\\nGHCND:USW00024233,SEATTLE TACOMA INTERNATIONAL AIRPORT WA US,20140815,10,0,0,244,167,15,280,180,40,72,1,-9999,-9999,-9999\\nGHCND:USW00024233,SEATTLE TACOMA INTERNATIONAL AIRPORT WA US,20140816,0,0,0,256,156,22,290,320,67,76,-9999,-9999,-9999,-9999\\nGHCND:USW00024233,SEATTLE TACOMA INTERNATIONAL AIRPORT WA US,20140817,0,0,0,278,150,28,360,-9999,58,-9999,-9999,-9999,-9999,-9999\\nGHCND:USW00024233,SEATTLE TACOMA INTERNATIONAL AIRPORT WA US,20140818,0,0,0,294,156,33,340,-9999,67,-9999,-9999,-9999,-9999,-9999\\nGHCND:USW00024233,SEATTLE TACOMA INTERNATIONAL AIRPORT WA US,20140819,0,0,0,272,156,24,210,210,72,89,-9999,-9999,-9999,-9999\\nGHCND:USW00024233,SEATTLE TACOMA INTERNATIONAL AIRPORT WA US,20140820,0,0,0,217,139,36,230,220,58,76,-9999,-9999,-9999,-9999\\nGHCND:USW00024233,SEATTLE TACOMA INTERNATIONAL AIRPORT WA US,20140821,0,0,0,211,111,17,220,220,45,67,-9999,-9999,-9999,-9999\\nGHCND:USW00024233,SEATTLE TACOMA INTERNATIONAL AIRPORT WA US,20140822,0,0,0,239,133,29,330,20,72,94,-9999,-9999,-9999,-9999\\nGHCND:USW00024233,SEATTLE TACOMA INTERNATIONAL AIRPORT WA US,20140823,0,0,0,278,139,20,280,280,54,72,-9999,-9999,-9999,-9999\\nGHCND:USW00024233,SEATTLE TACOMA INTERNATIONAL AIRPORT WA US,20140824,0,0,0,250,133,23,10,270,45,67,-9999,-9999,-9999,-9999\\nGHCND:USW00024233,SEATTLE TACOMA INTERNATIONAL AIRPORT WA US,20140825,0,0,0,289,144,20,360,10,67,94,-9999,-9999,-9999,-9999\\nGHCND:USW00024233,SEATTLE TACOMA INTERNATIONAL AIRPORT WA US,20140826,0,0,0,311,156,18,20,-9999,45,-9999,-9999,-9999,-9999,-9999\\nGHCND:USW00024233,SEATTLE TACOMA INTERNATIONAL AIRPORT WA US,20140827,0,0,0,289,161,16,30,100,54,98,-9999,-9999,-9999,-9999\\nGHCND:USW00024233,SEATTLE TACOMA INTERNATIONAL AIRPORT WA US,20140828,0,0,0,233,144,23,180,180,54,72,-9999,-9999,-9999,-9999\\nGHCND:USW00024233,SEATTLE TACOMA INTERNATIONAL AIRPORT WA US,20140829,0,0,0,228,150,34,210,200,72,89,-9999,-9999,-9999,-9999\\nGHCND:USW00024233,SEATTLE TACOMA INTERNATIONAL AIRPORT WA US,20140830,84,0,0,178,150,22,120,130,58,67,1,-9999,-9999,-9999\\nGHCND:USW00024233,SEATTLE TACOMA INTERNATIONAL AIRPORT WA US,20140831,13,0,0,211,139,19,210,190,45,63,1,-9999,-9999,-9999\\nGHCND:USW00024233,SEATTLE TACOMA INTERNATIONAL AIRPORT WA US,20140901,0,0,0,233,128,25,260,240,54,67,-9999,-9999,-9999,-9999\\nGHCND:USW00024233,SEATTLE TACOMA INTERNATIONAL AIRPORT WA US,20140902,30,0,0,200,139,43,210,210,103,130,1,-9999,-9999,-9999\\nGHCND:USW00024233,SEATTLE TACOMA INTERNATIONAL AIRPORT WA US,20140903,0,0,0,206,128,27,230,220,67,94,-9999,-9999,-9999,-9999\\nGHCND:USW00024233,SEATTLE TACOMA INTERNATIONAL AIRPORT WA US,20140904,0,0,0,239,111,31,350,350,63,81,1,-9999,-9999,-9999\\nGHCND:USW00024233,SEATTLE TACOMA INTERNATIONAL AIRPORT WA US,20140905,0,0,0,278,139,65,20,10,98,116,1,-9999,-9999,-9999\\nGHCND:USW00024233,SEATTLE TACOMA INTERNATIONAL AIRPORT WA US,20140906,0,0,0,322,150,29,10,20,54,63,-9999,-9999,-9999,-9999\\nGHCND:USW00024233,SEATTLE TACOMA INTERNATIONAL AIRPORT WA US,20140907,0,0,0,283,133,21,210,210,54,63,-9999,-9999,-9999,-9999\\nGHCND:USW00024233,SEATTLE TACOMA INTERNATIONAL AIRPORT WA US,20140908,0,0,0,211,133,28,230,220,58,76,-9999,-9999,-9999,-9999\\nGHCND:USW00024233,SEATTLE TACOMA INTERNATIONAL AIRPORT WA US,20140909,0,0,0,217,133,23,240,230,45,67,-9999,-9999,-9999,-9999\\nGHCND:USW00024233,SEATTLE TACOMA INTERNATIONAL AIRPORT WA US,20140910,0,0,0,222,122,39,350,350,89,107,-9999,-9999,-9999,-9999\\nGHCND:USW00024233,SEATTLE TACOMA INTERNATIONAL AIRPORT WA US,20140911,0,0,0,244,128,53,70,80,94,112,-9999,-9999,-9999,-9999\\nGHCND:USW00024233,SEATTLE TACOMA INTERNATIONAL AIRPORT WA US,20140912,0,0,0,244,128,59,340,340,89,107,-9999,-9999,-9999,-9999\\nGHCND:USW00024233,SEATTLE TACOMA INTERNATIONAL AIRPORT WA US,20140913,0,0,0,283,100,42,20,20,81,94,-9999,-9999,-9999,-9999\\nGHCND:USW00024233,SEATTLE TACOMA INTERNATIONAL AIRPORT WA US,20140914,0,0,0,300,117,18,20,30,58,63,-9999,-9999,-9999,-9999\\nGHCND:USW00024233,SEATTLE TACOMA INTERNATIONAL AIRPORT WA US,20140915,0,0,0,306,122,12,290,280,40,54,-9999,-9999,-9999,-9999\\nGHCND:USW00024233,SEATTLE TACOMA INTERNATIONAL AIRPORT WA US,20140916,0,0,0,222,139,28,210,190,67,81,-9999,-9999,-9999,-9999\\nGHCND:USW00024233,SEATTLE TACOMA INTERNATIONAL AIRPORT WA US,20140917,5,0,0,228,144,23,350,350,76,94,-9999,-9999,-9999,-9999\\nGHCND:USW00024233,SEATTLE TACOMA INTERNATIONAL AIRPORT WA US,20140918,3,0,0,194,150,31,210,210,67,130,1,-9999,-9999,-9999\\nGHCND:USW00024233,SEATTLE TACOMA INTERNATIONAL AIRPORT WA US,20140919,0,0,0,239,161,28,220,200,58,72,-9999,-9999,-9999,-9999\\nGHCND:USW00024233,SEATTLE TACOMA INTERNATIONAL AIRPORT WA US,20140920,0,0,0,244,144,44,10,360,81,98,1,-9999,-9999,-9999\\nGHCND:USW00024233,SEATTLE TACOMA INTERNATIONAL AIRPORT WA US,20140921,0,0,0,261,128,30,220,220,72,89,-9999,-9999,-9999,-9999\\nGHCND:USW00024233,SEATTLE TACOMA INTERNATIONAL AIRPORT WA US,20140922,3,0,0,222,150,21,230,230,54,72,1,-9999,-9999,-9999\\nGHCND:USW00024233,SEATTLE TACOMA INTERNATIONAL AIRPORT WA US,20140923,183,0,0,189,144,25,70,150,58,72,1,-9999,-9999,-9999\\nGHCND:USW00024233,SEATTLE TACOMA INTERNATIONAL AIRPORT WA US,20140924,203,0,0,189,144,27,140,150,72,81,1,-9999,-9999,-9999\\nGHCND:USW00024233,SEATTLE TACOMA INTERNATIONAL AIRPORT WA US,20140925,43,0,0,217,144,25,240,250,89,116,1,-9999,-9999,-9999\\nGHCND:USW00024233,SEATTLE TACOMA INTERNATIONAL AIRPORT WA US,20140926,89,0,0,200,139,33,140,130,72,107,1,-9999,-9999,-9999\\nGHCND:USW00024233,SEATTLE TACOMA INTERNATIONAL AIRPORT WA US,20140927,0,0,0,206,117,32,340,10,63,76,1,-9999,-9999,-9999\\nGHCND:USW00024233,SEATTLE TACOMA INTERNATIONAL AIRPORT WA US,20140928,0,0,0,189,122,20,280,280,40,54,1,-9999,-9999,-9999\\nGHCND:USW00024233,SEATTLE TACOMA INTERNATIONAL AIRPORT WA US,20140929,8,0,0,167,111,35,170,220,63,76,1,-9999,1,-9999\\nGHCND:USW00024233,SEATTLE TACOMA INTERNATIONAL AIRPORT WA US,20140930,0,0,0,194,122,26,30,80,54,81,-9999,-9999,-9999,-9999\\nGHCND:USW00024233,SEATTLE TACOMA INTERNATIONAL AIRPORT WA US,20141001,0,0,0,183,111,21,50,230,54,67,-9999,-9999,-9999,-9999\\nGHCND:USW00024233,SEATTLE TACOMA INTERNATIONAL AIRPORT WA US,20141002,0,0,0,194,100,20,300,10,54,72,-9999,-9999,-9999,-9999\\nGHCND:USW00024233,SEATTLE TACOMA INTERNATIONAL AIRPORT WA US,20141003,0,0,0,222,89,10,290,290,36,40,-9999,-9999,-9999,-9999\\nGHCND:USW00024233,SEATTLE TACOMA INTERNATIONAL AIRPORT WA US,20141004,0,0,0,217,122,12,310,310,36,40,-9999,-9999,-9999,-9999\\nGHCND:USW00024233,SEATTLE TACOMA INTERNATIONAL AIRPORT WA US,20141005,0,0,0,239,117,14,20,340,40,54,1,-9999,1,-9999\\nGHCND:USW00024233,SEATTLE TACOMA INTERNATIONAL AIRPORT WA US,20141006,0,0,0,256,133,25,10,360,63,76,1,-9999,1,-9999\\nGHCND:USW00024233,SEATTLE TACOMA INTERNATIONAL AIRPORT WA US,20141007,0,0,0,189,139,10,20,20,40,54,1,-9999,1,-9999\\nGHCND:USW00024233,SEATTLE TACOMA INTERNATIONAL AIRPORT WA US,20141008,0,0,0,206,128,18,310,310,40,63,1,-9999,1,-9999\\nGHCND:USW00024233,SEATTLE TACOMA INTERNATIONAL AIRPORT WA US,20141009,0,0,0,172,111,10,290,290,40,45,1,-9999,1,-9999\\nGHCND:USW00024233,SEATTLE TACOMA INTERNATIONAL AIRPORT WA US,20141010,3,0,0,183,100,38,200,190,72,94,1,-9999,1,-9999\\nGHCND:USW00024233,SEATTLE TACOMA INTERNATIONAL AIRPORT WA US,20141011,74,0,0,183,117,35,210,200,112,130,1,-9999,-9999,1\\nGHCND:USW00024233,SEATTLE TACOMA INTERNATIONAL AIRPORT WA US,20141012,0,0,0,178,117,21,250,220,45,63,-9999,-9999,-9999,-9999\\nGHCND:USW00024233,SEATTLE TACOMA INTERNATIONAL AIRPORT WA US,20141013,76,0,0,211,100,31,210,200,81,116,1,-9999,-9999,-9999\\nGHCND:USW00024233,SEATTLE TACOMA INTERNATIONAL AIRPORT WA US,20141014,71,0,0,167,117,22,140,140,58,72,1,-9999,-9999,-9999\\nGHCND:USW00024233,SEATTLE TACOMA INTERNATIONAL AIRPORT WA US,20141015,86,0,0,161,117,47,200,200,103,125,1,-9999,-9999,-9999\\nGHCND:USW00024233,SEATTLE TACOMA INTERNATIONAL AIRPORT WA US,20141016,0,0,0,206,111,33,120,120,76,103,-9999,-9999,-9999,-9999\\nGHCND:USW00024233,SEATTLE TACOMA INTERNATIONAL AIRPORT WA US,20141017,33,0,0,167,117,30,120,120,76,94,1,-9999,-9999,-9999\\nGHCND:USW00024233,SEATTLE TACOMA INTERNATIONAL AIRPORT WA US,20141018,150,0,0,194,139,19,140,320,54,103,1,-9999,-9999,-9999\\nGHCND:USW00024233,SEATTLE TACOMA INTERNATIONAL AIRPORT WA US,20141019,0,0,0,222,128,32,210,220,89,107,-9999,-9999,-9999,-9999\\nGHCND:USW00024233,SEATTLE TACOMA INTERNATIONAL AIRPORT WA US,20141020,117,0,0,161,122,31,190,-9999,49,-9999,1,-9999,-9999,-9999\\nGHCND:USW00024233,SEATTLE TACOMA INTERNATIONAL AIRPORT WA US,20141021,10,0,0,161,117,47,180,180,81,103,-9999,-9999,-9999,-9999\\nGHCND:USW00024233,SEATTLE TACOMA INTERNATIONAL AIRPORT WA US,20141022,320,0,0,156,117,50,200,130,81,125,1,-9999,-9999,-9999\\nGHCND:USW00024233,SEATTLE TACOMA INTERNATIONAL AIRPORT WA US,20141023,94,0,0,144,83,46,270,270,103,143,-9999,-9999,-9999,-9999\\nGHCND:USW00024233,SEATTLE TACOMA INTERNATIONAL AIRPORT WA US,20141024,41,0,0,144,89,32,360,30,63,134,-9999,-9999,-9999,-9999\\nGHCND:USW00024233,SEATTLE TACOMA INTERNATIONAL AIRPORT WA US,20141025,61,0,0,167,83,54,200,210,165,219,1,-9999,-9999,-9999\\nGHCND:USW00024233,SEATTLE TACOMA INTERNATIONAL AIRPORT WA US,20141026,15,0,0,128,78,50,210,210,98,125,1,-9999,-9999,-9999\\nGHCND:USW00024233,SEATTLE TACOMA INTERNATIONAL AIRPORT WA US,20141027,8,0,0,156,67,24,190,200,76,130,-9999,-9999,-9999,-9999\\nGHCND:USW00024233,SEATTLE TACOMA INTERNATIONAL AIRPORT WA US,20141028,127,0,0,150,94,39,190,170,76,103,1,-9999,-9999,-9999\\nGHCND:USW00024233,SEATTLE TACOMA INTERNATIONAL AIRPORT WA US,20141029,5,0,0,167,117,31,180,180,76,98,1,-9999,-9999,-9999\\nGHCND:USW00024233,SEATTLE TACOMA INTERNATIONAL AIRPORT WA US,20141030,254,0,0,156,111,32,100,110,72,94,1,-9999,-9999,-9999\\nGHCND:USW00024233,SEATTLE TACOMA INTERNATIONAL AIRPORT WA US,20141031,170,0,0,128,83,20,230,-9999,45,-9999,1,-9999,-9999,-9999\\nGHCND:USW00024233,SEATTLE TACOMA INTERNATIONAL AIRPORT WA US,20141101,0,0,0,111,72,12,120,-9999,31,-9999,1,-9999,1,-9999\\nGHCND:USW00024233,SEATTLE TACOMA INTERNATIONAL AIRPORT WA US,20141102,18,0,0,133,72,29,180,150,58,72,1,-9999,-9999,-9999\\nGHCND:USW00024233,SEATTLE TACOMA INTERNATIONAL AIRPORT WA US,20141103,109,0,0,139,111,48,170,170,89,112,1,-9999,-9999,-9999\\nGHCND:USW00024233,SEATTLE TACOMA INTERNATIONAL AIRPORT WA US,20141104,41,0,0,144,106,33,200,210,94,130,1,-9999,-9999,-9999\\nGHCND:USW00024233,SEATTLE TACOMA INTERNATIONAL AIRPORT WA US,20141105,48,0,0,150,106,21,100,100,45,58,1,-9999,-9999,-9999\\nGHCND:USW00024233,SEATTLE TACOMA INTERNATIONAL AIRPORT WA US,20141106,41,0,0,167,106,67,210,200,148,192,1,-9999,-9999,-9999\\nGHCND:USW00024233,SEATTLE TACOMA INTERNATIONAL AIRPORT WA US,20141107,0,0,0,144,72,23,350,240,45,76,-9999,-9999,-9999,-9999\\nGHCND:USW00024233,SEATTLE TACOMA INTERNATIONAL AIRPORT WA US,20141108,0,0,0,128,39,8,150,280,31,40,1,-9999,1,-9999\\nGHCND:USW00024233,SEATTLE TACOMA INTERNATIONAL AIRPORT WA US,20141109,51,0,0,133,78,30,30,190,81,103,1,-9999,-9999,-9999\\nGHCND:USW00024233,SEATTLE TACOMA INTERNATIONAL AIRPORT WA US,20141110,0,0,0,111,56,39,20,30,67,81,-9999,-9999,-9999,-9999\\nGHCND:USW00024233,SEATTLE TACOMA INTERNATIONAL AIRPORT WA US,20141111,0,0,0,78,11,77,100,100,139,192,-9999,-9999,-9999,-9999\\nGHCND:USW00024233,SEATTLE TACOMA INTERNATIONAL AIRPORT WA US,20141112,0,0,0,67,0,76,80,80,130,174,-9999,-9999,-9999,-9999\\nGHCND:USW00024233,SEATTLE TACOMA INTERNATIONAL AIRPORT WA US,20141113,0,0,0,72,6,47,110,110,94,139,-9999,-9999,-9999,-9999\\nGHCND:USW00024233,SEATTLE TACOMA INTERNATIONAL AIRPORT WA US,20141114,0,0,0,72,-21,45,10,10,76,89,-9999,-9999,-9999,-9999\\nGHCND:USW00024233,SEATTLE TACOMA INTERNATIONAL AIRPORT WA US,20141115,0,0,0,83,-16,42,90,90,134,148,-9999,-9999,-9999,-9999\\nGHCND:USW00024233,SEATTLE TACOMA INTERNATIONAL AIRPORT WA US,20141116,0,0,0,94,-21,42,10,10,76,94,-9999,-9999,-9999,-9999\\nGHCND:USW00024233,SEATTLE TACOMA INTERNATIONAL AIRPORT WA US,20141117,0,0,0,106,-21,19,230,-9999,81,-9999,-9999,-9999,-9999,-9999\\nGHCND:USW00024233,SEATTLE TACOMA INTERNATIONAL AIRPORT WA US,20141118,0,0,0,72,-5,9,20,10,45,54,-9999,-9999,-9999,-9999\\nGHCND:USW00024233,SEATTLE TACOMA INTERNATIONAL AIRPORT WA US,20141119,0,0,0,111,22,19,10,130,45,58,-9999,-9999,-9999,-9999\\nGHCND:USW00024233,SEATTLE TACOMA INTERNATIONAL AIRPORT WA US,20141120,36,0,0,111,56,21,100,140,54,67,1,-9999,-9999,-9999\\nGHCND:USW00024233,SEATTLE TACOMA INTERNATIONAL AIRPORT WA US,20141121,152,0,0,111,83,47,210,200,125,161,1,-9999,-9999,-9999\\nGHCND:USW00024233,SEATTLE TACOMA INTERNATIONAL AIRPORT WA US,20141122,5,0,0,94,67,47,210,210,125,165,-9999,-9999,-9999,-9999\\nGHCND:USW00024233,SEATTLE TACOMA INTERNATIONAL AIRPORT WA US,20141123,119,0,0,128,56,51,220,220,112,170,1,-9999,-9999,-9999\\nGHCND:USW00024233,SEATTLE TACOMA INTERNATIONAL AIRPORT WA US,20141124,13,0,0,117,44,38,190,190,107,139,1,-9999,-9999,-9999\\nGHCND:USW00024233,SEATTLE TACOMA INTERNATIONAL AIRPORT WA US,20141125,183,0,0,139,94,45,210,190,112,148,1,-9999,-9999,-9999\\nGHCND:USW00024233,SEATTLE TACOMA INTERNATIONAL AIRPORT WA US,20141126,3,0,0,150,122,39,210,200,89,116,-9999,-9999,-9999,-9999\\nGHCND:USW00024233,SEATTLE TACOMA INTERNATIONAL AIRPORT WA US,20141127,33,0,0,144,117,66,190,190,125,165,1,-9999,-9999,-9999\\nGHCND:USW00024233,SEATTLE TACOMA INTERNATIONAL AIRPORT WA US,20141128,343,0,0,128,33,58,10,10,103,143,1,-9999,-9999,-9999\\nGHCND:USW00024233,SEATTLE TACOMA INTERNATIONAL AIRPORT WA US,20141129,36,0,20,44,-43,53,360,350,139,174,1,-9999,-9999,-9999\\nGHCND:USW00024233,SEATTLE TACOMA INTERNATIONAL AIRPORT WA US,20141130,0,0,0,28,-49,44,10,-9999,72,-9999,-9999,-9999,-9999,-9999\\nGHCND:USW00024233,SEATTLE TACOMA INTERNATIONAL AIRPORT WA US,20141201,0,0,0,44,-32,22,30,100,45,58,-9999,-9999,-9999,-9999\\nGHCND:USW00024233,SEATTLE TACOMA INTERNATIONAL AIRPORT WA US,20141202,0,0,0,56,-32,57,20,20,103,125,1,-9999,-9999,-9999\\nGHCND:USW00024233,SEATTLE TACOMA INTERNATIONAL AIRPORT WA US,20141203,0,0,0,100,0,36,210,210,125,130,-9999,-9999,-9999,-9999\\nGHCND:USW00024233,SEATTLE TACOMA INTERNATIONAL AIRPORT WA US,20141204,8,0,0,83,39,11,110,110,45,58,1,-9999,-9999,-9999\\nGHCND:USW00024233,SEATTLE TACOMA INTERNATIONAL AIRPORT WA US,20141205,30,0,0,128,67,31,110,110,81,107,1,-9999,-9999,-9999\\nGHCND:USW00024233,SEATTLE TACOMA INTERNATIONAL AIRPORT WA US,20141206,74,0,0,117,78,36,200,200,72,94,1,-9999,-9999,-9999\\nGHCND:USW00024233,SEATTLE TACOMA INTERNATIONAL AIRPORT WA US,20141207,0,0,0,144,61,28,130,340,89,107,-9999,-9999,-9999,-9999\\nGHCND:USW00024233,SEATTLE TACOMA INTERNATIONAL AIRPORT WA US,20141208,91,0,0,144,89,42,100,120,76,94,1,-9999,-9999,-9999\\nGHCND:USW00024233,SEATTLE TACOMA INTERNATIONAL AIRPORT WA US,20141209,99,0,0,161,106,51,160,150,103,134,1,-9999,-9999,-9999\\nGHCND:USW00024233,SEATTLE TACOMA INTERNATIONAL AIRPORT WA US,20141210,130,0,0,189,100,67,170,160,157,206,1,-9999,-9999,-9999\\nGHCND:USW00024233,SEATTLE TACOMA INTERNATIONAL AIRPORT WA US,20141211,69,0,0,144,83,64,190,180,161,219,1,-9999,-9999,-9999\\nGHCND:USW00024233,SEATTLE TACOMA INTERNATIONAL AIRPORT WA US,20141212,0,0,0,111,72,37,190,200,116,157,-9999,-9999,-9999,-9999\\nGHCND:USW00024233,SEATTLE TACOMA INTERNATIONAL AIRPORT WA US,20141213,0,0,0,100,39,11,180,320,36,36,1,-9999,1,-9999\\nGHCND:USW00024233,SEATTLE TACOMA INTERNATIONAL AIRPORT WA US,20141214,0,0,0,128,17,35,110,120,98,134,1,-9999,1,-9999\\nGHCND:USW00024233,SEATTLE TACOMA INTERNATIONAL AIRPORT WA US,20141215,0,0,0,122,67,59,120,120,98,130,-9999,-9999,-9999,-9999\\nGHCND:USW00024233,SEATTLE TACOMA INTERNATIONAL AIRPORT WA US,20141216,0,0,-9999,100,83,40,110,110,67,98,-9999,-9999,-9999,-9999\\nGHCND:USW00024233,SEATTLE TACOMA INTERNATIONAL AIRPORT WA US,20141217,28,0,0,89,61,16,100,100,54,67,1,-9999,-9999,-9999\\nGHCND:USW00024233,SEATTLE TACOMA INTERNATIONAL AIRPORT WA US,20141218,130,0,0,94,67,31,120,110,67,98,1,-9999,-9999,-9999\\nGHCND:USW00024233,SEATTLE TACOMA INTERNATIONAL AIRPORT WA US,20141219,30,0,0,111,72,43,200,200,81,98,-9999,-9999,-9999,-9999\\nGHCND:USW00024233,SEATTLE TACOMA INTERNATIONAL AIRPORT WA US,20141220,196,0,0,128,67,55,220,220,125,206,1,-9999,-9999,-9999\\nGHCND:USW00024233,SEATTLE TACOMA INTERNATIONAL AIRPORT WA US,20141221,0,0,0,128,100,52,230,220,107,148,-9999,-9999,-9999,-9999\\nGHCND:USW00024233,SEATTLE TACOMA INTERNATIONAL AIRPORT WA US,20141222,0,0,0,106,61,15,220,220,58,76,-9999,-9999,-9999,-9999\\nGHCND:USW00024233,SEATTLE TACOMA INTERNATIONAL AIRPORT WA US,20141223,206,0,0,122,50,38,40,60,103,125,1,-9999,-9999,-9999\\nGHCND:USW00024233,SEATTLE TACOMA INTERNATIONAL AIRPORT WA US,20141224,53,0,0,72,39,18,170,190,40,58,1,-9999,-9999,-9999\\nGHCND:USW00024233,SEATTLE TACOMA INTERNATIONAL AIRPORT WA US,20141225,0,0,0,78,28,22,130,130,45,54,1,-9999,1,-9999\\nGHCND:USW00024233,SEATTLE TACOMA INTERNATIONAL AIRPORT WA US,20141226,0,0,0,56,17,12,160,160,45,54,1,-9999,1,-9999\\nGHCND:USW00024233,SEATTLE TACOMA INTERNATIONAL AIRPORT WA US,20141227,33,0,0,94,44,49,210,210,112,161,1,-9999,-9999,-9999\\nGHCND:USW00024233,SEATTLE TACOMA INTERNATIONAL AIRPORT WA US,20141228,41,0,0,67,28,18,50,30,58,72,1,-9999,-9999,-9999\\nGHCND:USW00024233,SEATTLE TACOMA INTERNATIONAL AIRPORT WA US,20141229,0,0,0,61,6,43,350,350,76,103,1,-9999,-9999,-9999\\nGHCND:USW00024233,SEATTLE TACOMA INTERNATIONAL AIRPORT WA US,20141230,0,0,0,33,-21,36,90,70,63,76,-9999,-9999,-9999,-9999\\nGHCND:USW00024233,SEATTLE TACOMA INTERNATIONAL AIRPORT WA US,20141231,0,0,0,33,-27,30,30,-9999,58,-9999,-9999,-9999,-9999,-9999\\n'\n"
     ]
    }
   ],
   "source": [
    "url = 'https://raw.githubusercontent.com/jakevdp/PythonDataScienceHandbook/master/notebooks/data/Seattle2014.csv'\n",
    "response = requests.get(url)\n",
    "if response.status_code != 200:\n",
    "    print('Failed to get data:', response.status_code)\n",
    "else:\n",
    "    print(response.content)"
   ]
  },
  {
   "cell_type": "code",
   "execution_count": 48,
   "metadata": {},
   "outputs": [
    {
     "data": {
      "text/plain": [
       "bytes"
      ]
     },
     "execution_count": 48,
     "metadata": {},
     "output_type": "execute_result"
    }
   ],
   "source": [
    "type(response.content) #網頁檔案仍是bytes"
   ]
  },
  {
   "cell_type": "code",
   "execution_count": 49,
   "metadata": {
    "scrolled": true
   },
   "outputs": [
    {
     "data": {
      "text/plain": [
       "(365,)"
      ]
     },
     "execution_count": 49,
     "metadata": {},
     "output_type": "execute_result"
    }
   ],
   "source": [
    "rainfall = pd.read_csv(io.StringIO(response.content.decode('utf-8')))['PRCP']\n",
    "rainfall.shape"
   ]
  },
  {
   "cell_type": "code",
   "execution_count": 50,
   "metadata": {},
   "outputs": [
    {
     "data": {
      "text/plain": [
       "(365,)"
      ]
     },
     "execution_count": 50,
     "metadata": {},
     "output_type": "execute_result"
    }
   ],
   "source": [
    "inches = rainfall/254    #1/10mm = 1 inches\n",
    "inches.shape"
   ]
  },
  {
   "cell_type": "code",
   "execution_count": 51,
   "metadata": {},
   "outputs": [
    {
     "name": "stdout",
     "output_type": "stream",
     "text": [
      "沒下雨天數 =  215\n",
      "下雨天數 =  150\n",
      "雨量超過0.5 inches的天數 =  37\n",
      "雨量小於0.1 inches的天數 =  46\n"
     ]
    }
   ],
   "source": [
    "print('沒下雨天數 = ',np.sum(inches == 0))\n",
    "print('下雨天數 = ',np.sum(inches != 0))\n",
    "print('雨量超過0.5 inches的天數 = ',np.sum(inches > 0.5))\n",
    "print('雨量小於0.1 inches的天數 = ',np.sum((inches > 0)&(inches <0.1)))"
   ]
  },
  {
   "cell_type": "code",
   "execution_count": 52,
   "metadata": {
    "scrolled": true
   },
   "outputs": [
    {
     "data": {
      "text/plain": [
       "0      False\n",
       "1       True\n",
       "2       True\n",
       "3      False\n",
       "4      False\n",
       "5       True\n",
       "6       True\n",
       "7       True\n",
       "8       True\n",
       "9       True\n",
       "10      True\n",
       "11      True\n",
       "12     False\n",
       "13     False\n",
       "14     False\n",
       "15     False\n",
       "16     False\n",
       "17     False\n",
       "18     False\n",
       "19     False\n",
       "20     False\n",
       "21      True\n",
       "22     False\n",
       "23     False\n",
       "24     False\n",
       "25     False\n",
       "26     False\n",
       "27      True\n",
       "28      True\n",
       "29     False\n",
       "       ...  \n",
       "335    False\n",
       "336    False\n",
       "337     True\n",
       "338     True\n",
       "339     True\n",
       "340    False\n",
       "341     True\n",
       "342     True\n",
       "343     True\n",
       "344     True\n",
       "345    False\n",
       "346    False\n",
       "347    False\n",
       "348    False\n",
       "349    False\n",
       "350     True\n",
       "351     True\n",
       "352     True\n",
       "353     True\n",
       "354    False\n",
       "355    False\n",
       "356     True\n",
       "357     True\n",
       "358    False\n",
       "359    False\n",
       "360     True\n",
       "361     True\n",
       "362    False\n",
       "363    False\n",
       "364    False\n",
       "Name: PRCP, Length: 365, dtype: bool"
      ]
     },
     "execution_count": 52,
     "metadata": {},
     "output_type": "execute_result"
    }
   ],
   "source": [
    "rainy = (inches>0)  #降雨遮罩\n",
    "rainy"
   ]
  },
  {
   "cell_type": "code",
   "execution_count": 53,
   "metadata": {
    "scrolled": true
   },
   "outputs": [
    {
     "data": {
      "text/plain": [
       "array([False, False, False, False, False, False, False, False, False,\n",
       "       False, False, False, False, False, False, False, False, False,\n",
       "       False, False, False, False, False, False, False, False, False,\n",
       "       False, False, False, False, False, False, False, False, False,\n",
       "       False, False, False, False, False, False, False, False, False,\n",
       "       False, False, False, False, False, False, False, False, False,\n",
       "       False, False, False, False, False, False, False, False, False,\n",
       "       False, False, False, False, False, False, False, False, False,\n",
       "       False, False, False, False, False, False, False, False, False,\n",
       "       False, False, False, False, False, False, False, False, False,\n",
       "       False, False, False, False, False, False, False, False, False,\n",
       "       False, False, False, False, False, False, False, False, False,\n",
       "       False, False, False, False, False, False, False, False, False,\n",
       "       False, False, False, False, False, False, False, False, False,\n",
       "       False, False, False, False, False, False, False, False, False,\n",
       "       False, False, False, False, False, False, False, False, False,\n",
       "       False, False, False, False, False, False, False, False, False,\n",
       "       False, False, False, False, False, False, False, False, False,\n",
       "       False, False, False, False, False, False, False, False, False,\n",
       "       False, False,  True,  True,  True,  True,  True,  True,  True,\n",
       "        True,  True,  True,  True,  True,  True,  True,  True,  True,\n",
       "        True,  True,  True,  True,  True,  True,  True,  True,  True,\n",
       "        True,  True,  True,  True,  True,  True,  True,  True,  True,\n",
       "        True,  True,  True,  True,  True,  True,  True,  True,  True,\n",
       "        True,  True,  True,  True,  True,  True,  True,  True,  True,\n",
       "        True,  True,  True,  True,  True,  True,  True,  True,  True,\n",
       "        True,  True,  True,  True,  True,  True,  True,  True,  True,\n",
       "        True,  True,  True,  True,  True,  True,  True,  True,  True,\n",
       "        True,  True,  True,  True,  True,  True,  True,  True,  True,\n",
       "        True, False, False, False, False, False, False, False, False,\n",
       "       False, False, False, False, False, False, False, False, False,\n",
       "       False, False, False, False, False, False, False, False, False,\n",
       "       False, False, False, False, False, False, False, False, False,\n",
       "       False, False, False, False, False, False, False, False, False,\n",
       "       False, False, False, False, False, False, False, False, False,\n",
       "       False, False, False, False, False, False, False, False, False,\n",
       "       False, False, False, False, False, False, False, False, False,\n",
       "       False, False, False, False, False, False, False, False, False,\n",
       "       False, False, False, False, False, False, False, False, False,\n",
       "       False, False, False, False, False, False, False, False, False,\n",
       "       False, False, False, False, False])"
      ]
     },
     "execution_count": 53,
     "metadata": {},
     "output_type": "execute_result"
    }
   ],
   "source": [
    "summer = (np.arange(365)-172<90) & (np.arange(365)-172>0)  #建立夏天遮罩\n",
    "summer"
   ]
  },
  {
   "cell_type": "code",
   "execution_count": 54,
   "metadata": {
    "scrolled": true
   },
   "outputs": [
    {
     "data": {
      "text/plain": [
       "0      False\n",
       "1      False\n",
       "2      False\n",
       "3      False\n",
       "4      False\n",
       "5      False\n",
       "6      False\n",
       "7      False\n",
       "8      False\n",
       "9      False\n",
       "10     False\n",
       "11     False\n",
       "12     False\n",
       "13     False\n",
       "14     False\n",
       "15     False\n",
       "16     False\n",
       "17     False\n",
       "18     False\n",
       "19     False\n",
       "20     False\n",
       "21     False\n",
       "22     False\n",
       "23     False\n",
       "24     False\n",
       "25     False\n",
       "26     False\n",
       "27     False\n",
       "28     False\n",
       "29     False\n",
       "       ...  \n",
       "335    False\n",
       "336    False\n",
       "337    False\n",
       "338    False\n",
       "339    False\n",
       "340    False\n",
       "341    False\n",
       "342    False\n",
       "343    False\n",
       "344    False\n",
       "345    False\n",
       "346    False\n",
       "347    False\n",
       "348    False\n",
       "349    False\n",
       "350    False\n",
       "351    False\n",
       "352    False\n",
       "353    False\n",
       "354    False\n",
       "355    False\n",
       "356    False\n",
       "357    False\n",
       "358    False\n",
       "359    False\n",
       "360    False\n",
       "361    False\n",
       "362    False\n",
       "363    False\n",
       "364    False\n",
       "Name: PRCP, Length: 365, dtype: bool"
      ]
     },
     "execution_count": 54,
     "metadata": {},
     "output_type": "execute_result"
    }
   ],
   "source": [
    "rainy&summer  #合起來就是夏天又下雨的遮罩喔"
   ]
  },
  {
   "cell_type": "code",
   "execution_count": 55,
   "metadata": {},
   "outputs": [
    {
     "name": "stdout",
     "output_type": "stream",
     "text": [
      "下雨的中位數 =  0.19488188976377951\n",
      "最大雨量 =  1.8385826771653544\n",
      "夏天下雨的中位數 =  0.0610236220472441\n",
      "夏天最大雨量 =  0.8503937007874016\n"
     ]
    }
   ],
   "source": [
    "print('下雨的中位數 = ',np.median(inches[rainy]))\n",
    "print('最大雨量 = ',np.max(inches[rainy]))\n",
    "print('夏天下雨的中位數 = ',np.median(inches[rainy&summer]))\n",
    "print('夏天最大雨量 = ',np.max(inches[rainy&summer]))"
   ]
  },
  {
   "cell_type": "markdown",
   "metadata": {},
   "source": [
    "---\n",
    "### Fancy 索引\n",
    "---"
   ]
  },
  {
   "cell_type": "code",
   "execution_count": 57,
   "metadata": {},
   "outputs": [
    {
     "data": {
      "text/plain": [
       "[2, 5, 6]"
      ]
     },
     "execution_count": 57,
     "metadata": {},
     "output_type": "execute_result"
    }
   ],
   "source": [
    "x = np.arange(10)\n",
    "[x[2],x[5],x[6]]"
   ]
  },
  {
   "cell_type": "code",
   "execution_count": 58,
   "metadata": {},
   "outputs": [
    {
     "data": {
      "text/plain": [
       "(array([2, 5, 6]), array([2, 5, 6]))"
      ]
     },
     "execution_count": 58,
     "metadata": {},
     "output_type": "execute_result"
    }
   ],
   "source": [
    "x = np.arange(10)\n",
    "ind = [2,5,6]  #可接受1D List，最好使用array\n",
    "x[ind],x[[2,5,6]]"
   ]
  },
  {
   "cell_type": "code",
   "execution_count": 59,
   "metadata": {},
   "outputs": [
    {
     "data": {
      "text/plain": [
       "array([[2, 5, 6],\n",
       "       [1, 3, 5]])"
      ]
     },
     "execution_count": 59,
     "metadata": {},
     "output_type": "execute_result"
    }
   ],
   "source": [
    "ind2 = np.array([[2,5,6],[1,3,5]])\n",
    "x[ind2]"
   ]
  },
  {
   "cell_type": "code",
   "execution_count": 60,
   "metadata": {},
   "outputs": [
    {
     "name": "stdout",
     "output_type": "stream",
     "text": [
      "[[ 0  1  2  3]\n",
      " [ 4  5  6  7]\n",
      " [ 8  9 10 11]]\n"
     ]
    },
    {
     "data": {
      "text/plain": [
       "array([ 1,  6, 11])"
      ]
     },
     "execution_count": 60,
     "metadata": {},
     "output_type": "execute_result"
    }
   ],
   "source": [
    "x2 = np.arange(12).reshape((3,4))\n",
    "row = np.array([0,1,2])\n",
    "col = np.array([1,2,3])\n",
    "print(x2)\n",
    "x2[row,col]     #可支援多維度指定"
   ]
  },
  {
   "cell_type": "code",
   "execution_count": 61,
   "metadata": {},
   "outputs": [
    {
     "data": {
      "text/plain": [
       "array([6, 4, 5])"
      ]
     },
     "execution_count": 61,
     "metadata": {},
     "output_type": "execute_result"
    }
   ],
   "source": [
    "x2[1,[2,0,1]]"
   ]
  },
  {
   "cell_type": "code",
   "execution_count": 62,
   "metadata": {},
   "outputs": [
    {
     "data": {
      "text/plain": [
       "array([[ 6,  4,  5],\n",
       "       [10,  8,  9]])"
      ]
     },
     "execution_count": 62,
     "metadata": {},
     "output_type": "execute_result"
    }
   ],
   "source": [
    "x2[1:,[2,0,1]]"
   ]
  },
  {
   "cell_type": "code",
   "execution_count": 63,
   "metadata": {},
   "outputs": [
    {
     "data": {
      "text/plain": [
       "array([[ 0,  2],\n",
       "       [ 4,  6],\n",
       "       [ 8, 10]])"
      ]
     },
     "execution_count": 63,
     "metadata": {},
     "output_type": "execute_result"
    }
   ],
   "source": [
    "mask = np.array([1,0,1,0],dtype=bool)\n",
    "x2[:,mask]"
   ]
  },
  {
   "cell_type": "markdown",
   "metadata": {},
   "source": [
    "疊加結果(強制更新變數)"
   ]
  },
  {
   "cell_type": "code",
   "execution_count": 64,
   "metadata": {},
   "outputs": [
    {
     "data": {
      "text/plain": [
       "array([0., 1., 1., 0., 1., 1., 0., 1., 1., 0.])"
      ]
     },
     "execution_count": 64,
     "metadata": {},
     "output_type": "execute_result"
    }
   ],
   "source": [
    "x = np.zeros(10)\n",
    "i = [1,2,2,4,5,5,7,8,8]\n",
    "x[i] += 1\n",
    "x"
   ]
  },
  {
   "cell_type": "code",
   "execution_count": 65,
   "metadata": {},
   "outputs": [
    {
     "data": {
      "text/plain": [
       "array([0., 1., 2., 0., 1., 2., 0., 1., 2., 0.])"
      ]
     },
     "execution_count": 65,
     "metadata": {},
     "output_type": "execute_result"
    }
   ],
   "source": [
    "x = np.zeros(10)\n",
    "i = [1,2,2,4,5,5,7,8,8]\n",
    "np.add.at(x,i,1)\n",
    "x"
   ]
  },
  {
   "cell_type": "markdown",
   "metadata": {},
   "source": [
    "裝箱範例"
   ]
  },
  {
   "cell_type": "code",
   "execution_count": 66,
   "metadata": {
    "scrolled": false
   },
   "outputs": [
    {
     "data": {
      "text/plain": [
       "(array([ 0.49671415, -0.1382643 ,  0.64768854,  1.52302986, -0.23415337,\n",
       "        -0.23413696,  1.57921282,  0.76743473, -0.46947439,  0.54256004,\n",
       "        -0.46341769, -0.46572975,  0.24196227, -1.91328024, -1.72491783,\n",
       "        -0.56228753, -1.01283112,  0.31424733, -0.90802408, -1.4123037 ,\n",
       "         1.46564877, -0.2257763 ,  0.0675282 , -1.42474819, -0.54438272,\n",
       "         0.11092259, -1.15099358,  0.37569802, -0.60063869, -0.29169375,\n",
       "        -0.60170661,  1.85227818, -0.01349722, -1.05771093,  0.82254491,\n",
       "        -1.22084365,  0.2088636 , -1.95967012, -1.32818605,  0.19686124,\n",
       "         0.73846658,  0.17136828, -0.11564828, -0.3011037 , -1.47852199,\n",
       "        -0.71984421, -0.46063877,  1.05712223,  0.34361829, -1.76304016,\n",
       "         0.32408397, -0.38508228, -0.676922  ,  0.61167629,  1.03099952,\n",
       "         0.93128012, -0.83921752, -0.30921238,  0.33126343,  0.97554513,\n",
       "        -0.47917424, -0.18565898, -1.10633497, -1.19620662,  0.81252582,\n",
       "         1.35624003, -0.07201012,  1.0035329 ,  0.36163603, -0.64511975,\n",
       "         0.36139561,  1.53803657, -0.03582604,  1.56464366, -2.6197451 ,\n",
       "         0.8219025 ,  0.08704707, -0.29900735,  0.09176078, -1.98756891,\n",
       "        -0.21967189,  0.35711257,  1.47789404, -0.51827022, -0.8084936 ,\n",
       "        -0.50175704,  0.91540212,  0.32875111, -0.5297602 ,  0.51326743,\n",
       "         0.09707755,  0.96864499, -0.70205309, -0.32766215, -0.39210815,\n",
       "        -1.46351495,  0.29612028,  0.26105527,  0.00511346, -0.23458713]),\n",
       " array([-5.        , -4.47368421, -3.94736842, -3.42105263, -2.89473684,\n",
       "        -2.36842105, -1.84210526, -1.31578947, -0.78947368, -0.26315789,\n",
       "         0.26315789,  0.78947368,  1.31578947,  1.84210526,  2.36842105,\n",
       "         2.89473684,  3.42105263,  3.94736842,  4.47368421,  5.        ]),\n",
       " array([0., 0., 0., 0., 0., 0., 0., 0., 0., 0., 0., 0., 0., 0., 0., 0., 0.,\n",
       "        0., 0., 0.]))"
      ]
     },
     "execution_count": 66,
     "metadata": {},
     "output_type": "execute_result"
    }
   ],
   "source": [
    "np.random.seed(42)\n",
    "x = np.random.randn(100)\n",
    "#手動計算直方圖\n",
    "bins = np.linspace(-5,5,20)  #-5~5 分成20塊\n",
    "counts = np.zeros_like(bins)\n",
    "x,bins,counts"
   ]
  },
  {
   "cell_type": "code",
   "execution_count": 67,
   "metadata": {},
   "outputs": [
    {
     "data": {
      "text/plain": [
       "array([11, 10, 11, 13, 10, 10, 13, 11,  9, 11,  9,  9, 10,  6,  7,  9,  8,\n",
       "       11,  8,  7, 13, 10, 10,  7,  9, 10,  8, 11,  9,  9,  9, 14, 10,  8,\n",
       "       12,  8, 10,  6,  7, 10, 11, 10, 10,  9,  7,  9,  9, 12, 11,  7, 11,\n",
       "        9,  9, 11, 12, 12,  8,  9, 11, 12,  9, 10,  8,  8, 12, 13, 10, 12,\n",
       "       11,  9, 11, 13, 10, 13,  5, 12, 10,  9, 10,  6, 10, 11, 13,  9,  8,\n",
       "        9, 12, 11,  9, 11, 10, 12,  9,  9,  9,  7, 11, 10, 10, 10],\n",
       "      dtype=int64)"
      ]
     },
     "execution_count": 67,
     "metadata": {},
     "output_type": "execute_result"
    }
   ],
   "source": [
    "i= np.searchsorted(bins,x)  # 將 x 與bins的區塊做比對   b-1 =< x < b\n",
    "i"
   ]
  },
  {
   "cell_type": "code",
   "execution_count": 68,
   "metadata": {},
   "outputs": [
    {
     "data": {
      "text/plain": [
       "array([ 0.,  0.,  0.,  0.,  0.,  1.,  3.,  7.,  9., 23., 22., 17., 10.,\n",
       "        7.,  1.,  0.,  0.,  0.,  0.,  0.])"
      ]
     },
     "execution_count": 68,
     "metadata": {},
     "output_type": "execute_result"
    }
   ],
   "source": [
    "np.add.at(counts,i,1)\n",
    "counts"
   ]
  },
  {
   "cell_type": "markdown",
   "metadata": {},
   "source": [
    "### 排序\n",
    "會建立出獨立副本"
   ]
  },
  {
   "cell_type": "code",
   "execution_count": 69,
   "metadata": {},
   "outputs": [
    {
     "data": {
      "text/plain": [
       "(array([1, 2, 3, 4, 5, 6, 6, 8]), array([99,  4,  6,  3,  6,  2,  5,  8]))"
      ]
     },
     "execution_count": 69,
     "metadata": {},
     "output_type": "execute_result"
    }
   ],
   "source": [
    "x = np.array([1,4,6,3,6,2,5,8])\n",
    "x1 = np.sort(x)\n",
    "x[0]=99\n",
    "x1,x"
   ]
  },
  {
   "cell_type": "code",
   "execution_count": 70,
   "metadata": {},
   "outputs": [
    {
     "data": {
      "text/plain": [
       "(array([1, 2, 3, 4, 5, 6, 6, 8]), array([1, 4, 6, 3, 6, 2, 5, 8]))"
      ]
     },
     "execution_count": 70,
     "metadata": {},
     "output_type": "execute_result"
    }
   ],
   "source": [
    "x = np.array([1,4,6,3,6,2,5,8])\n",
    "np.sort(x),x"
   ]
  },
  {
   "cell_type": "code",
   "execution_count": 71,
   "metadata": {},
   "outputs": [
    {
     "data": {
      "text/plain": [
       "array([1, 2, 3, 4, 5, 6, 6, 8])"
      ]
     },
     "execution_count": 71,
     "metadata": {},
     "output_type": "execute_result"
    }
   ],
   "source": [
    "x = np.array([1,4,6,3,6,2,5,8])\n",
    "x.sort()  #直接更新進去\n",
    "x"
   ]
  },
  {
   "cell_type": "code",
   "execution_count": 72,
   "metadata": {},
   "outputs": [
    {
     "data": {
      "text/plain": [
       "(array([0, 5, 3, 1, 6, 2, 4, 7], dtype=int64), array([1, 2, 3, 4, 5, 6, 6, 8]))"
      ]
     },
     "execution_count": 72,
     "metadata": {},
     "output_type": "execute_result"
    }
   ],
   "source": [
    "x = np.array([1,4,6,3,6,2,5,8])\n",
    "argsortMask = np.argsort(x)\n",
    "argsortMask,x[argsortMask]"
   ]
  },
  {
   "cell_type": "code",
   "execution_count": 73,
   "metadata": {},
   "outputs": [
    {
     "data": {
      "text/plain": [
       "array([[6, 3, 7, 4, 6, 9],\n",
       "       [2, 6, 7, 4, 3, 7],\n",
       "       [7, 2, 5, 4, 1, 7],\n",
       "       [5, 1, 4, 0, 9, 5]])"
      ]
     },
     "execution_count": 73,
     "metadata": {},
     "output_type": "execute_result"
    }
   ],
   "source": [
    "rand=np.random.RandomState(42)\n",
    "x=rand.randint(0,10,(4,6))\n",
    "x"
   ]
  },
  {
   "cell_type": "code",
   "execution_count": 74,
   "metadata": {},
   "outputs": [
    {
     "data": {
      "text/plain": [
       "array([[2, 1, 4, 0, 1, 5],\n",
       "       [5, 2, 5, 4, 3, 7],\n",
       "       [6, 3, 7, 4, 6, 7],\n",
       "       [7, 6, 7, 4, 9, 9]])"
      ]
     },
     "execution_count": 74,
     "metadata": {},
     "output_type": "execute_result"
    }
   ],
   "source": [
    "np.sort(x,axis=0)"
   ]
  },
  {
   "cell_type": "code",
   "execution_count": 75,
   "metadata": {},
   "outputs": [
    {
     "data": {
      "text/plain": [
       "array([[3, 4, 6, 6, 7, 9],\n",
       "       [2, 3, 4, 6, 7, 7],\n",
       "       [1, 2, 4, 5, 7, 7],\n",
       "       [0, 1, 4, 5, 5, 9]])"
      ]
     },
     "execution_count": 75,
     "metadata": {},
     "output_type": "execute_result"
    }
   ],
   "source": [
    "np.sort(x,axis=1)"
   ]
  },
  {
   "cell_type": "markdown",
   "metadata": {},
   "source": [
    "區分部分大小"
   ]
  },
  {
   "cell_type": "code",
   "execution_count": 76,
   "metadata": {},
   "outputs": [
    {
     "data": {
      "text/plain": [
       "array([2, 1, 0, 3, 4, 5, 8, 6, 7, 9])"
      ]
     },
     "execution_count": 76,
     "metadata": {},
     "output_type": "execute_result"
    }
   ],
   "source": [
    "x = np.arange(0,10)[::-1]\n",
    "np.partition(x,4)  #將最小的 4個 元素亂數放在前面，其餘元素亂數放後面"
   ]
  },
  {
   "cell_type": "code",
   "execution_count": 77,
   "metadata": {},
   "outputs": [],
   "source": [
    "# 結構化資料"
   ]
  },
  {
   "cell_type": "code",
   "execution_count": null,
   "metadata": {},
   "outputs": [],
   "source": []
  }
 ],
 "metadata": {
  "kernelspec": {
   "display_name": "Python 3",
   "language": "python",
   "name": "python3"
  },
  "language_info": {
   "codemirror_mode": {
    "name": "ipython",
    "version": 3
   },
   "file_extension": ".py",
   "mimetype": "text/x-python",
   "name": "python",
   "nbconvert_exporter": "python",
   "pygments_lexer": "ipython3",
   "version": "3.7.0"
  }
 },
 "nbformat": 4,
 "nbformat_minor": 2
}
